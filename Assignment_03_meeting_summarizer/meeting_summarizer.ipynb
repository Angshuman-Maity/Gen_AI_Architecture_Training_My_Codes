{
 "cells": [
  {
   "cell_type": "code",
   "execution_count": 1,
   "id": "67606a6b",
   "metadata": {},
   "outputs": [],
   "source": [
    "from langchain_core.prompts import ChatPromptTemplate\n",
    "from langchain_openai import AzureChatOpenAI\n",
    "import os \n",
    "from dotenv import load_dotenv\n",
    "import json\n",
    "from langchain_core import output_parsers\n"
   ]
  },
  {
   "cell_type": "code",
   "execution_count": 2,
   "id": "2bdfc347",
   "metadata": {},
   "outputs": [],
   "source": [
    "load_dotenv()\n",
    "os.environ['AZURE_OPENAI_API_KEY'] = os.getenv(\"AZURE_OPENAI_API_KEY\")\n",
    "os.environ['AZURE_OPENAI_ENDPOINT'] = os.getenv(\"AZURE_OPENAI_ENDPOINT\")\n",
    "api_version = os.getenv(\"API_VERSION\")"
   ]
  },
  {
   "cell_type": "code",
   "execution_count": 3,
   "id": "4d6bcf93",
   "metadata": {},
   "outputs": [],
   "source": [
    "model = AzureChatOpenAI (api_version=api_version, model= \"finance-gpt\")"
   ]
  },
  {
   "cell_type": "code",
   "execution_count": 4,
   "id": "a476a88d",
   "metadata": {},
   "outputs": [],
   "source": [
    "system_template = \"\"\"you are a world class text summarizer.\n",
    "Given a plain text {meeting_transcript} , you perform the following tasks very accurately, \n",
    "1. Create a 2 sentence summary of the meeting's main discussion points\n",
    "2. list all the action items, importantly each action item should start/prefaced with a \"-\" \n",
    "\n",
    "Return the result strictly as a JSON with keys \"summary\" and \"action_items. the values of \n",
    "\"action_items\" should be a list of strings even if there is only one action item. \n",
    "\"\"\"\n",
    "\n",
    "user_template = \"\"\"Please summarize and list down the key action items of the \n",
    "following {meeting_transcript}\"\"\"\n",
    "\n",
    "prompt = ChatPromptTemplate([('system', system_template), ('user',user_template)])\n",
    "\n"
   ]
  },
  {
   "cell_type": "code",
   "execution_count": 6,
   "id": "398afc0c",
   "metadata": {},
   "outputs": [],
   "source": [
    "parser = output_parsers.StrOutputParser()\n",
    "# output = model.invoke(final_prompt)\n",
    "# Step 1: Convert JSON string to dict\n",
    "def final_output (output):\n",
    "    final_output = parser.invoke(output)\n",
    "    parsed_json = json.loads(final_output)\n",
    "    return parsed_json"
   ]
  },
  {
   "cell_type": "code",
   "execution_count": 7,
   "id": "649c58a6",
   "metadata": {},
   "outputs": [],
   "source": [
    "chain = prompt | model | final_output"
   ]
  },
  {
   "cell_type": "code",
   "execution_count": 9,
   "id": "6365ef9a",
   "metadata": {},
   "outputs": [],
   "source": [
    "from pydantic import BaseModel, ValidationError\n",
    "from typing import List\n",
    "\n",
    "# Step 1: Define your model\n",
    "class MeetingNotes(BaseModel):\n",
    "    summary: str\n",
    "    action_items: List[str]\n",
    "\n",
    "# Wrap everything in a function\n",
    "def extract_meeting_notes(prompt: str) -> MeetingNotes:\n",
    "    max_retries = 2\n",
    "    for attempt in range(max_retries):\n",
    "        output = chain.invoke(prompt)\n",
    "        \n",
    "        try:\n",
    "            _ = MeetingNotes(**output)\n",
    "            return output\n",
    "        \n",
    "        except (json.JSONDecodeError, ValidationError) as e:\n",
    "            print(f\"❌ Attempt {attempt + 1} failed: {e}\")\n",
    "            prompt = \"Please output valid JSON only.\\n\\n\" + prompt  # Retry with system prompt\n",
    "\n",
    "    raise ValueError(\"❌ Failed to extract valid structured data after retries.\")\n",
    "\n"
   ]
  },
  {
   "cell_type": "code",
   "execution_count": null,
   "id": "2278b2f3",
   "metadata": {},
   "outputs": [
    {
     "name": "stdout",
     "output_type": "stream",
     "text": [
      "{\n",
      "  \"summary\": \"The team discussed finalizing the Q3 roadmap, reviewing the updated feature list, and preparing user-testing sessions. Action items include pushing UI mockups to staging and compiling stakeholder feedback into a slide deck.\",\n",
      "  \"action_items\": [\n",
      "    \"- Review the updated feature list by Friday.\",\n",
      "    \"- Set up user-testing sessions next week.\",\n",
      "    \"- Push the new UI mockups to staging on Wednesday.\",\n",
      "    \"- Compile the stakeholder feedback into a slide deck by Monday.\"\n",
      "  ]\n",
      "}\n"
     ]
    }
   ],
   "source": [
    "#####################  Sample 01  ########################################\n",
    "\n",
    "final_result = extract_meeting_notes(\"\"\"\"\n",
    "\n",
    "Alice: Welcome everyone. Today we need to finalize the Q3 roadmap.\n",
    "\n",
    "Bob: I’ve emailed the updated feature list—please review by Friday.\n",
    "\n",
    "Carol: I’ll set up the user-testing sessions next week.\n",
    "\n",
    "Dan: Let’s push the new UI mockups to staging on Wednesday.\n",
    "\n",
    "Alice: Great. Also, can someone compile the stakeholder feedback into a slide deck?\n",
    "\n",
    "Bob: I can handle the slide deck by Monday.\n",
    "\n",
    "Alice: Thanks, team. Meeting adjourned.\"\"\")\n",
    "print(json.dumps(final_result, indent=2))"
   ]
  },
  {
   "cell_type": "code",
   "execution_count": 12,
   "id": "5cdb76e8",
   "metadata": {},
   "outputs": [
    {
     "name": "stdout",
     "output_type": "stream",
     "text": [
      "{\n",
      "  \"summary\": \"The team discussed the progress of the social campaign draft and the timeline for asset delivery from the design team. Additionally, there were reminders about budget submissions and the distribution of the final budget spreadsheet.\",\n",
      "  \"action_items\": [\n",
      "    \"- Emma will share the social campaign draft today.\",\n",
      "    \"- Frank will ensure the design team delivers assets by Tuesday.\",\n",
      "    \"- Emma will schedule the ads for next week after receiving the assets.\",\n",
      "    \"- Team members should submit their budget requests before the end of the day.\",\n",
      "    \"- The host will send out the final budget spreadsheet.\"\n",
      "  ]\n",
      "}\n"
     ]
    }
   ],
   "source": [
    "\n",
    "final_result = extract_meeting_notes(\"\"\"\" Host: Let’s kick off our marketing sync.\n",
    "\n",
    "Emma: The social campaign draft is 80% done; I’ll share it today.\n",
    "\n",
    "Frank: I spoke with the design team—they’ll deliver assets by Tuesday.\n",
    "\n",
    "Emma: Once we have assets, I’ll schedule the ads for next week.\n",
    "\n",
    "George: Reminder: submit your budget requests before end of day.\n",
    "\n",
    "Host: Noted. I’ll send out the final budget spreadsheet.\n",
    "\"\"\")\n",
    "print(json.dumps(final_result, indent=2))"
   ]
  },
  {
   "cell_type": "code",
   "execution_count": 15,
   "id": "9a85053f",
   "metadata": {},
   "outputs": [
    {
     "name": "stdout",
     "output_type": "stream",
     "text": [
      "{\n",
      "  \"summary\": \"During the weekly check-in, the team discussed the resolution of a frontend bug and ongoing backend caching. Developer 3 is blocked on API access, and the manager will follow up on this issue while the onboarding flow work begins.\",\n",
      "  \"action_items\": [\n",
      "    \"- Follow up on the API access issue for Developer 3.\",\n",
      "    \"- Review progress on Friday.\"\n",
      "  ]\n",
      "}\n"
     ]
    }
   ],
   "source": [
    "\n",
    "final_result = extract_meeting_notes(\"\"\"\"Manager: Let’s start our weekly check-in.\n",
    "\n",
    "Dev1: The frontend bug is resolved and deployed.\n",
    "\n",
    "Dev2: Backend caching is in progress, should be done by Thursday.\n",
    "\n",
    "Dev3: I’m blocked on API access—waiting on credentials.\n",
    "\n",
    "Manager: Noted. I’ll follow up on the API issue.\n",
    "\n",
    "Dev1: Also, starting work on the onboarding flow.\n",
    "\n",
    "Manager: Great. Let’s review progress on Friday.\"\"\")\n",
    "print(json.dumps(final_result, indent=2))"
   ]
  },
  {
   "cell_type": "code",
   "execution_count": 17,
   "id": "4fd0ceb8",
   "metadata": {},
   "outputs": [
    {
     "name": "stdout",
     "output_type": "stream",
     "text": [
      "{\n",
      "  \"summary\": \"The team discussed a client escalation caused by a data pipeline delay, with the engineer noting retry failures in the logs. The fix has been scheduled for deployment tomorrow and the lead emphasized keeping the client updated.\",\n",
      "  \"action_items\": [\n",
      "    \"- Ensure the fix is included in the next release.\",\n",
      "    \"- Keep the client updated.\"\n",
      "  ]\n",
      "}\n"
     ]
    }
   ],
   "source": [
    "\n",
    "final_result = extract_meeting_notes(\"\"\"\"Lead: We need a quick sync on the client escalation.\n",
    "\n",
    "PM: The root cause was a data pipeline delay.\n",
    "\n",
    "Engineer: Logs show retry failures at 3 AM.\n",
    "\n",
    "PM: I’ve already updated the RCA document.\n",
    "\n",
    "Lead: Let’s make sure the fix is included in the next release.\n",
    "\n",
    "Engineer: Scheduled for tomorrow’s deploy.\n",
    "\n",
    "Lead: Good. Let’s keep the client updated.\"\"\")\n",
    "print(json.dumps(final_result, indent=2))"
   ]
  },
  {
   "cell_type": "code",
   "execution_count": null,
   "id": "a0e971a9",
   "metadata": {},
   "outputs": [],
   "source": []
  }
 ],
 "metadata": {
  "kernelspec": {
   "display_name": "gen-ai",
   "language": "python",
   "name": "python3"
  },
  "language_info": {
   "codemirror_mode": {
    "name": "ipython",
    "version": 3
   },
   "file_extension": ".py",
   "mimetype": "text/x-python",
   "name": "python",
   "nbconvert_exporter": "python",
   "pygments_lexer": "ipython3",
   "version": "3.12.3"
  }
 },
 "nbformat": 4,
 "nbformat_minor": 5
}
