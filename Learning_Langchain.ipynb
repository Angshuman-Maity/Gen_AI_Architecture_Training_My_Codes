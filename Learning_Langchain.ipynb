{
 "cells": [
  {
   "cell_type": "code",
   "execution_count": 1,
   "id": "74e0add0",
   "metadata": {},
   "outputs": [],
   "source": [
    "# pip install langchain langchain-experimental langchain-openai"
   ]
  },
  {
   "cell_type": "code",
   "execution_count": null,
   "id": "076ac4fe",
   "metadata": {},
   "outputs": [],
   "source": [
    "AZURE_OPENAI_API_KEY = \"278a70a9e90747dabc92d235cee4772d\"\n",
    "AZURE_OPENAI_ENDPOINT = \"https://eastus.api.cognitive.microsoft.com/\""
   ]
  },
  {
   "cell_type": "code",
   "execution_count": 7,
   "id": "2229f901",
   "metadata": {},
   "outputs": [],
   "source": [
    "import os \n",
    "os.environ['AZURE_OPENAI_API_KEY'] = AZURE_OPENAI_API_KEY\n",
    "os.environ['AZURE_OPENAI_ENDPOINT'] = AZURE_OPENAI_ENDPOINT\n"
   ]
  },
  {
   "cell_type": "code",
   "execution_count": 8,
   "id": "3492d1b5",
   "metadata": {},
   "outputs": [
    {
     "data": {
      "text/plain": [
       "AIMessage(content='Why did the mouse take a bath?\\n\\nBecause it wanted to squeak clean! ', additional_kwargs={'refusal': None}, response_metadata={'token_usage': {'completion_tokens': 18, 'prompt_tokens': 13, 'total_tokens': 31, 'completion_tokens_details': {'accepted_prediction_tokens': 0, 'audio_tokens': 0, 'reasoning_tokens': 0, 'rejected_prediction_tokens': 0}, 'prompt_tokens_details': {'audio_tokens': 0, 'cached_tokens': 0}}, 'model_name': 'gpt-4o-mini-2024-07-18', 'system_fingerprint': 'fp_7a53abb7a2', 'id': 'chatcmpl-BZpx4EKq6XsEglk7gliTvbxPanrDe', 'prompt_filter_results': [{'prompt_index': 0, 'content_filter_results': {'hate': {'filtered': False, 'severity': 'safe'}, 'self_harm': {'filtered': False, 'severity': 'safe'}, 'sexual': {'filtered': False, 'severity': 'safe'}, 'violence': {'filtered': False, 'severity': 'safe'}}}], 'finish_reason': 'stop', 'logprobs': None, 'content_filter_results': {'hate': {'filtered': False, 'severity': 'safe'}, 'self_harm': {'filtered': False, 'severity': 'safe'}, 'sexual': {'filtered': False, 'severity': 'safe'}, 'violence': {'filtered': False, 'severity': 'safe'}}}, id='run-e241d71d-b695-4fec-ab2c-7bf6b31c089c-0', usage_metadata={'input_tokens': 13, 'output_tokens': 18, 'total_tokens': 31, 'input_token_details': {'audio': 0, 'cache_read': 0}, 'output_token_details': {'audio': 0, 'reasoning': 0}})"
      ]
     },
     "execution_count": 8,
     "metadata": {},
     "output_type": "execute_result"
    }
   ],
   "source": [
    "from langchain_openai import AzureChatOpenAI\n",
    "\n",
    "model = AzureChatOpenAI(api_version=\"2024-12-01-preview\",model='telcogpt-v1')\n",
    "\n",
    "prompt = \"Tell me a joke about mouse\"\n",
    "model.invoke(prompt)"
   ]
  },
  {
   "cell_type": "code",
   "execution_count": 9,
   "id": "ece35380",
   "metadata": {},
   "outputs": [
    {
     "data": {
      "text/plain": [
       "ChatPromptTemplate(input_variables=['language', 'text'], input_types={}, partial_variables={}, messages=[SystemMessagePromptTemplate(prompt=PromptTemplate(input_variables=['language'], input_types={}, partial_variables={}, template='Translate the following into {language}'), additional_kwargs={}), HumanMessagePromptTemplate(prompt=PromptTemplate(input_variables=['text'], input_types={}, partial_variables={}, template='{text}'), additional_kwargs={})])"
      ]
     },
     "execution_count": 9,
     "metadata": {},
     "output_type": "execute_result"
    }
   ],
   "source": [
    "from langchain_core.prompts import ChatPromptTemplate\n",
    "system_template = \"Translate the following into {language}\"\n",
    "\n",
    "prompt = ChatPromptTemplate([(\"system\",system_template),(\"user\",\"{text}\")])\n",
    "\n",
    "prompt"
   ]
  },
  {
   "cell_type": "code",
   "execution_count": 10,
   "id": "d3758bbf",
   "metadata": {},
   "outputs": [
    {
     "data": {
      "text/plain": [
       "['language', 'text']"
      ]
     },
     "execution_count": 10,
     "metadata": {},
     "output_type": "execute_result"
    }
   ],
   "source": [
    "prompt.input_variables"
   ]
  },
  {
   "cell_type": "code",
   "execution_count": 11,
   "id": "e3333fc6",
   "metadata": {},
   "outputs": [
    {
     "data": {
      "text/plain": [
       "ChatPromptValue(messages=[SystemMessage(content='Translate the following into Bengali', additional_kwargs={}, response_metadata={}), HumanMessage(content='HOW ARE YOU?', additional_kwargs={}, response_metadata={})])"
      ]
     },
     "execution_count": 11,
     "metadata": {},
     "output_type": "execute_result"
    }
   ],
   "source": [
    "prompt.invoke({\"language\":\"Bengali\",\"text\":\"HOW ARE YOU?\"})"
   ]
  },
  {
   "cell_type": "code",
   "execution_count": 12,
   "id": "3e55d5e6",
   "metadata": {},
   "outputs": [
    {
     "data": {
      "text/plain": [
       "AIMessage(content='আপনি কেমন আছেন?', additional_kwargs={'refusal': None}, response_metadata={'token_usage': {'completion_tokens': 8, 'prompt_tokens': 20, 'total_tokens': 28, 'completion_tokens_details': {'accepted_prediction_tokens': 0, 'audio_tokens': 0, 'reasoning_tokens': 0, 'rejected_prediction_tokens': 0}, 'prompt_tokens_details': {'audio_tokens': 0, 'cached_tokens': 0}}, 'model_name': 'gpt-4o-mini-2024-07-18', 'system_fingerprint': 'fp_7a53abb7a2', 'id': 'chatcmpl-BZq78vLDSfsfeeGCCNuX5QDAhQ7Kj', 'prompt_filter_results': [{'prompt_index': 0, 'content_filter_results': {'hate': {'filtered': False, 'severity': 'safe'}, 'self_harm': {'filtered': False, 'severity': 'safe'}, 'sexual': {'filtered': False, 'severity': 'safe'}, 'violence': {'filtered': False, 'severity': 'safe'}}}], 'finish_reason': 'stop', 'logprobs': None, 'content_filter_results': {'hate': {'filtered': False, 'severity': 'safe'}, 'self_harm': {'filtered': False, 'severity': 'safe'}, 'sexual': {'filtered': False, 'severity': 'safe'}, 'violence': {'filtered': False, 'severity': 'safe'}}}, id='run-fb97a20c-da77-429e-9835-659015226faa-0', usage_metadata={'input_tokens': 20, 'output_tokens': 8, 'total_tokens': 28, 'input_token_details': {'audio': 0, 'cache_read': 0}, 'output_token_details': {'audio': 0, 'reasoning': 0}})"
      ]
     },
     "execution_count": 12,
     "metadata": {},
     "output_type": "execute_result"
    }
   ],
   "source": [
    "# PARSERS\n",
    "from langchain_core.output_parsers import StrOutputParser\n",
    "parser=StrOutputParser()\n",
    "final_prompt = prompt.invoke({\"language\":\"Bengali\",\"text\":\"HOW ARE YOU?\"})\n",
    "op = model.invoke(final_prompt)\n",
    "op"
   ]
  },
  {
   "cell_type": "code",
   "execution_count": 14,
   "id": "3a623d7f",
   "metadata": {},
   "outputs": [
    {
     "data": {
      "text/plain": [
       "'আপনি কেমন আছেন?'"
      ]
     },
     "execution_count": 14,
     "metadata": {},
     "output_type": "execute_result"
    }
   ],
   "source": [
    "parser.invoke(op)"
   ]
  },
  {
   "cell_type": "code",
   "execution_count": null,
   "id": "69f03934",
   "metadata": {},
   "outputs": [],
   "source": [
    "## Chain\n",
    "- a static sequence of execution involving multiple components such as LLMs, parsers, prompts, tools, loaders etc.\n",
    "- can be used to automate a rule based, linear and non linear workflows involving LLMs, tools"
   ]
  },
  {
   "cell_type": "code",
   "execution_count": 17,
   "id": "4751a2cc",
   "metadata": {},
   "outputs": [],
   "source": [
    "translation_chain = prompt | model | parser "
   ]
  },
  {
   "cell_type": "code",
   "execution_count": 18,
   "id": "45866c00",
   "metadata": {},
   "outputs": [
    {
     "data": {
      "text/plain": [
       "'আজ আপনি কি খেয়েছেন?'"
      ]
     },
     "execution_count": 18,
     "metadata": {},
     "output_type": "execute_result"
    }
   ],
   "source": [
    "translation_chain.invoke({\"language\":\"Bengali\",\"text\":\"What have you eaten today?\"})"
   ]
  },
  {
   "cell_type": "markdown",
   "id": "91650bb1",
   "metadata": {},
   "source": [
    "## Code Chain"
   ]
  },
  {
   "cell_type": "code",
   "execution_count": 19,
   "id": "9a7d976c",
   "metadata": {},
   "outputs": [],
   "source": [
    "code_generation_prompt = ChatPromptTemplate.from_template(\"create a python code for {text}. Return only the code and nothing else\")\n",
    "\n",
    "code_chain_01 = code_generation_prompt | model | parser"
   ]
  },
  {
   "cell_type": "code",
   "execution_count": 22,
   "id": "786477fd",
   "metadata": {},
   "outputs": [
    {
     "name": "stdout",
     "output_type": "stream",
     "text": [
      "```python\n",
      "def fibonacci(n):\n",
      "    a, b = 0, 1\n",
      "    result = []\n",
      "    for _ in range(n):\n",
      "        result.append(a)\n",
      "        a, b = b, a + b\n",
      "    return result\n",
      "\n",
      "# Example usage\n",
      "n = 10  # Change this value for more/less Fibonacci numbers\n",
      "print(fibonacci(n))\n",
      "```\n"
     ]
    }
   ],
   "source": [
    "op = code_chain_01.invoke({\"text\":\"fibonacci series\"})\n",
    "print(op)"
   ]
  },
  {
   "cell_type": "code",
   "execution_count": 23,
   "id": "d1926a32",
   "metadata": {},
   "outputs": [],
   "source": [
    "code_analyze_prompt = ChatPromptTemplate.from_template(\"analyze the provided code and calculate the time complexity {code}\")\n",
    "code_chain_02 = code_analyze_prompt | model | parser"
   ]
  },
  {
   "cell_type": "code",
   "execution_count": 27,
   "id": "f6f0431e",
   "metadata": {},
   "outputs": [],
   "source": [
    "def patch_response (code):\n",
    "    print(code)\n",
    "    print(\"#\" * 20)\n",
    "    return {\"code\":code}\n",
    "        \n"
   ]
  },
  {
   "cell_type": "code",
   "execution_count": 28,
   "id": "0225d314",
   "metadata": {},
   "outputs": [],
   "source": [
    "final_chain = code_chain_01 | patch_response | code_chain_02"
   ]
  },
  {
   "cell_type": "code",
   "execution_count": 29,
   "id": "bdd08c38",
   "metadata": {},
   "outputs": [
    {
     "name": "stdout",
     "output_type": "stream",
     "text": [
      "```python\n",
      "def fibonacci_series(n):\n",
      "    fib_series = []\n",
      "    a, b = 0, 1\n",
      "    for _ in range(n):\n",
      "        fib_series.append(a)\n",
      "        a, b = b, a + b\n",
      "    return fib_series\n",
      "\n",
      "# Example usage:\n",
      "n = 10\n",
      "print(fibonacci_series(n))\n",
      "```\n",
      "####################\n"
     ]
    },
    {
     "data": {
      "text/plain": [
       "\"Let's analyze the provided code for the `fibonacci_series` function:\\n\\n### Code Analysis\\n\\n1. **Initialization**: \\n   ```python\\n   fib_series = []\\n   a, b = 0, 1\\n   ```\\n   This initializes an empty list `fib_series` to store Fibonacci numbers, and sets `a = 0` and `b = 1`, which correspond to the first two Fibonacci numbers.\\n\\n2. **Loop**:\\n   ```python\\n   for _ in range(n):\\n       fib_series.append(a)\\n       a, b = b, a + b\\n   ```\\n   Here, the code uses a for loop that iterates `n` times. In each iteration:\\n   - The current value of `a` is appended to `fib_series`.\\n   - The values of `a` and `b` are updated such that:\\n     - `a` takes the value of `b` (the next Fibonacci number),\\n     - `b` takes the value of `a + b` (the sum of the previous two Fibonacci numbers).\\n\\n### Time Complexity Calculation\\n\\n- The `for` loop runs `n` times, where `n` is the input to the function.\\n- Each iteration of the loop performs a constant amount of work:\\n  - Appending a value to a list (`fib_series.append(a)`) is an O(1) operation on average.\\n  - Updating the values of `a` and `b` is also O(1).\\n\\nConsidering that the loop runs `n` times and each iteration takes O(1) time, the overall time complexity of the function is:\\n\\n\\\\[\\nO(n)\\n\\\\]\\n\\n### Conclusion\\n\\nThe time complexity of the provided `fibonacci_series` function is **O(n)**, meaning it scales linearly with the input size `n`.\""
      ]
     },
     "execution_count": 29,
     "metadata": {},
     "output_type": "execute_result"
    }
   ],
   "source": [
    "final_chain.invoke({'text': \"fibonacci series\"})"
   ]
  },
  {
   "cell_type": "code",
   "execution_count": null,
   "id": "2ef615ea",
   "metadata": {},
   "outputs": [],
   "source": []
  },
  {
   "cell_type": "code",
   "execution_count": null,
   "id": "dc255091",
   "metadata": {},
   "outputs": [],
   "source": []
  }
 ],
 "metadata": {
  "kernelspec": {
   "display_name": "gen-ai",
   "language": "python",
   "name": "python3"
  },
  "language_info": {
   "codemirror_mode": {
    "name": "ipython",
    "version": 3
   },
   "file_extension": ".py",
   "mimetype": "text/x-python",
   "name": "python",
   "nbconvert_exporter": "python",
   "pygments_lexer": "ipython3",
   "version": "3.12.3"
  }
 },
 "nbformat": 4,
 "nbformat_minor": 5
}
