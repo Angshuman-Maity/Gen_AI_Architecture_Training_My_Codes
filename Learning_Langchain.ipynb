{
 "cells": [
  {
   "cell_type": "code",
   "execution_count": 8,
   "id": "74e0add0",
   "metadata": {},
   "outputs": [],
   "source": [
    "# pip install langchain langchain-experimental langchain-openai"
   ]
  },
  {
   "cell_type": "code",
   "execution_count": 9,
   "id": "076ac4fe",
   "metadata": {},
   "outputs": [],
   "source": [
    "AZURE_OPENAI_API_KEY = \"278a70a9e90747dabc92d235cee4772d\"\n",
    "AZURE_OPENAI_ENDPOINT = \"https://eastus.api.cognitive.microsoft.com/\""
   ]
  },
  {
   "cell_type": "code",
   "execution_count": 10,
   "id": "2229f901",
   "metadata": {},
   "outputs": [],
   "source": [
    "import os \n",
    "os.environ['AZURE_OPENAI_API_KEY'] = AZURE_OPENAI_API_KEY\n",
    "os.environ['AZURE_OPENAI_ENDPOINT'] = AZURE_OPENAI_ENDPOINT\n"
   ]
  },
  {
   "cell_type": "code",
   "execution_count": 11,
   "id": "3492d1b5",
   "metadata": {},
   "outputs": [
    {
     "data": {
      "text/plain": [
       "AIMessage(content='Why did the mouse break up with his girlfriend?\\n\\nBecause she was a little too cheesy! 🧀🐭', additional_kwargs={'refusal': None}, response_metadata={'token_usage': {'completion_tokens': 24, 'prompt_tokens': 13, 'total_tokens': 37, 'completion_tokens_details': {'accepted_prediction_tokens': 0, 'audio_tokens': 0, 'reasoning_tokens': 0, 'rejected_prediction_tokens': 0}, 'prompt_tokens_details': {'audio_tokens': 0, 'cached_tokens': 0}}, 'model_name': 'gpt-4o-mini-2024-07-18', 'system_fingerprint': 'fp_7a53abb7a2', 'id': 'chatcmpl-BZrCtOcdXaGzKbevWFeI5NSGXAvUB', 'prompt_filter_results': [{'prompt_index': 0, 'content_filter_results': {'hate': {'filtered': False, 'severity': 'safe'}, 'self_harm': {'filtered': False, 'severity': 'safe'}, 'sexual': {'filtered': False, 'severity': 'safe'}, 'violence': {'filtered': False, 'severity': 'safe'}}}], 'finish_reason': 'stop', 'logprobs': None, 'content_filter_results': {'hate': {'filtered': False, 'severity': 'safe'}, 'self_harm': {'filtered': False, 'severity': 'safe'}, 'sexual': {'filtered': False, 'severity': 'safe'}, 'violence': {'filtered': False, 'severity': 'safe'}}}, id='run-54703dc6-2152-48d1-a70d-27154083c912-0', usage_metadata={'input_tokens': 13, 'output_tokens': 24, 'total_tokens': 37, 'input_token_details': {'audio': 0, 'cache_read': 0}, 'output_token_details': {'audio': 0, 'reasoning': 0}})"
      ]
     },
     "execution_count": 11,
     "metadata": {},
     "output_type": "execute_result"
    }
   ],
   "source": [
    "from langchain_openai import AzureChatOpenAI\n",
    "\n",
    "model = AzureChatOpenAI(api_version=\"2024-12-01-preview\",model='telcogpt-v1')\n",
    "\n",
    "prompt = \"Tell me a joke about mouse\"\n",
    "model.invoke(prompt)"
   ]
  },
  {
   "cell_type": "code",
   "execution_count": 12,
   "id": "ece35380",
   "metadata": {},
   "outputs": [
    {
     "data": {
      "text/plain": [
       "ChatPromptTemplate(input_variables=['language', 'text'], input_types={}, partial_variables={}, messages=[SystemMessagePromptTemplate(prompt=PromptTemplate(input_variables=['language'], input_types={}, partial_variables={}, template='Translate the following into {language}'), additional_kwargs={}), HumanMessagePromptTemplate(prompt=PromptTemplate(input_variables=['text'], input_types={}, partial_variables={}, template='{text}'), additional_kwargs={})])"
      ]
     },
     "execution_count": 12,
     "metadata": {},
     "output_type": "execute_result"
    }
   ],
   "source": [
    "from langchain_core.prompts import ChatPromptTemplate\n",
    "system_template = \"Translate the following into {language}\"\n",
    "\n",
    "prompt = ChatPromptTemplate([(\"system\",system_template),(\"user\",\"{text}\")])\n",
    "\n",
    "prompt"
   ]
  },
  {
   "cell_type": "code",
   "execution_count": 13,
   "id": "d3758bbf",
   "metadata": {},
   "outputs": [
    {
     "data": {
      "text/plain": [
       "['language', 'text']"
      ]
     },
     "execution_count": 13,
     "metadata": {},
     "output_type": "execute_result"
    }
   ],
   "source": [
    "prompt.input_variables"
   ]
  },
  {
   "cell_type": "code",
   "execution_count": 14,
   "id": "e3333fc6",
   "metadata": {},
   "outputs": [
    {
     "data": {
      "text/plain": [
       "ChatPromptValue(messages=[SystemMessage(content='Translate the following into Bengali', additional_kwargs={}, response_metadata={}), HumanMessage(content='HOW ARE YOU?', additional_kwargs={}, response_metadata={})])"
      ]
     },
     "execution_count": 14,
     "metadata": {},
     "output_type": "execute_result"
    }
   ],
   "source": [
    "prompt.invoke({\"language\":\"Bengali\",\"text\":\"HOW ARE YOU?\"})"
   ]
  },
  {
   "cell_type": "code",
   "execution_count": 16,
   "id": "3e55d5e6",
   "metadata": {},
   "outputs": [
    {
     "data": {
      "text/plain": [
       "AIMessage(content='আপনি কেমন আছেন?', additional_kwargs={'refusal': None}, response_metadata={'token_usage': {'completion_tokens': 8, 'prompt_tokens': 20, 'total_tokens': 28, 'completion_tokens_details': {'accepted_prediction_tokens': 0, 'audio_tokens': 0, 'reasoning_tokens': 0, 'rejected_prediction_tokens': 0}, 'prompt_tokens_details': {'audio_tokens': 0, 'cached_tokens': 0}}, 'model_name': 'gpt-4o-mini-2024-07-18', 'system_fingerprint': 'fp_7a53abb7a2', 'id': 'chatcmpl-BZrDxHLmSv9TRoizu1C0EHhkzyULw', 'prompt_filter_results': [{'prompt_index': 0, 'content_filter_results': {'hate': {'filtered': False, 'severity': 'safe'}, 'self_harm': {'filtered': False, 'severity': 'safe'}, 'sexual': {'filtered': False, 'severity': 'safe'}, 'violence': {'filtered': False, 'severity': 'safe'}}}], 'finish_reason': 'stop', 'logprobs': None, 'content_filter_results': {'hate': {'filtered': False, 'severity': 'safe'}, 'self_harm': {'filtered': False, 'severity': 'safe'}, 'sexual': {'filtered': False, 'severity': 'safe'}, 'violence': {'filtered': False, 'severity': 'safe'}}}, id='run-f1c0e41d-144b-48a9-8e10-615d29536e22-0', usage_metadata={'input_tokens': 20, 'output_tokens': 8, 'total_tokens': 28, 'input_token_details': {'audio': 0, 'cache_read': 0}, 'output_token_details': {'audio': 0, 'reasoning': 0}})"
      ]
     },
     "execution_count": 16,
     "metadata": {},
     "output_type": "execute_result"
    }
   ],
   "source": [
    "# PARSERS\n",
    "from langchain_core.output_parsers import StrOutputParser\n",
    "parser=StrOutputParser()\n",
    "final_prompt = prompt.invoke({\"language\":\"Bengali\",\"text\":\"HOW ARE YOU?\"})\n",
    "op = model.invoke(final_prompt)\n",
    "op"
   ]
  },
  {
   "cell_type": "code",
   "execution_count": 17,
   "id": "3a623d7f",
   "metadata": {},
   "outputs": [
    {
     "data": {
      "text/plain": [
       "'আপনি কেমন আছেন?'"
      ]
     },
     "execution_count": 17,
     "metadata": {},
     "output_type": "execute_result"
    }
   ],
   "source": [
    "parser.invoke(op)"
   ]
  },
  {
   "cell_type": "code",
   "execution_count": 1,
   "id": "69f03934",
   "metadata": {},
   "outputs": [],
   "source": [
    "## Chain\n",
    "# - a static sequence of execution involving multiple components such as LLMs, parsers, prompts, tools, loaders etc.\n",
    "# - can be used to automate a rule based, linear and non linear workflows involving LLMs, tools"
   ]
  },
  {
   "cell_type": "code",
   "execution_count": 19,
   "id": "4751a2cc",
   "metadata": {},
   "outputs": [],
   "source": [
    "translation_chain = prompt | model | parser "
   ]
  },
  {
   "cell_type": "code",
   "execution_count": 21,
   "id": "45866c00",
   "metadata": {},
   "outputs": [
    {
     "data": {
      "text/plain": [
       "'আপনি আজ কি খেয়েছেন?'"
      ]
     },
     "execution_count": 21,
     "metadata": {},
     "output_type": "execute_result"
    }
   ],
   "source": [
    "translation_chain.invoke({\"language\":\"Bengali\",\"text\":\"What have you eaten today?\"})"
   ]
  },
  {
   "cell_type": "markdown",
   "id": "91650bb1",
   "metadata": {},
   "source": [
    "## Code Chain"
   ]
  },
  {
   "cell_type": "code",
   "execution_count": 22,
   "id": "9a7d976c",
   "metadata": {},
   "outputs": [],
   "source": [
    "code_generation_prompt = ChatPromptTemplate.from_template(\"create a python code for {text}. Return only the code and nothing else\")\n",
    "\n",
    "code_chain_01 = code_generation_prompt | model | parser"
   ]
  },
  {
   "cell_type": "code",
   "execution_count": 24,
   "id": "786477fd",
   "metadata": {},
   "outputs": [
    {
     "name": "stdout",
     "output_type": "stream",
     "text": [
      "```python\n",
      "def fibonacci(n):\n",
      "    fib_series = []\n",
      "    a, b = 0, 1\n",
      "    for _ in range(n):\n",
      "        fib_series.append(a)\n",
      "        a, b = b, a + b\n",
      "    return fib_series\n",
      "\n",
      "# Example usage:\n",
      "n = 10\n",
      "print(fibonacci(n))\n",
      "```\n"
     ]
    }
   ],
   "source": [
    "op = code_chain_01.invoke({\"text\":\"fibonacci series\"})\n",
    "print(op)"
   ]
  },
  {
   "cell_type": "code",
   "execution_count": 25,
   "id": "d1926a32",
   "metadata": {},
   "outputs": [],
   "source": [
    "code_analyze_prompt = ChatPromptTemplate.from_template(\"analyze the provided code and calculate the time complexity {code}\")\n",
    "code_chain_02 = code_analyze_prompt | model | parser"
   ]
  },
  {
   "cell_type": "code",
   "execution_count": 26,
   "id": "f6f0431e",
   "metadata": {},
   "outputs": [],
   "source": [
    "def patch_response (code):\n",
    "    print(code)\n",
    "    print(\"#\" * 20)\n",
    "    return {\"code\":code}     \n"
   ]
  },
  {
   "cell_type": "code",
   "execution_count": 27,
   "id": "0225d314",
   "metadata": {},
   "outputs": [],
   "source": [
    "final_chain = code_chain_01 | patch_response | code_chain_02"
   ]
  },
  {
   "cell_type": "code",
   "execution_count": 28,
   "id": "bdd08c38",
   "metadata": {},
   "outputs": [
    {
     "name": "stdout",
     "output_type": "stream",
     "text": [
      "```python\n",
      "def fibonacci_series(n):\n",
      "    if n <= 0:\n",
      "        return []\n",
      "    elif n == 1:\n",
      "        return [0]\n",
      "    elif n == 2:\n",
      "        return [0, 1]\n",
      "    \n",
      "    series = [0, 1]\n",
      "    for i in range(2, n):\n",
      "        series.append(series[-1] + series[-2])\n",
      "    return series\n",
      "\n",
      "# Example usage\n",
      "n = 10\n",
      "print(fibonacci_series(n))\n",
      "```\n",
      "####################\n"
     ]
    },
    {
     "data": {
      "text/plain": [
       "\"Let's analyze the provided Python code for generating a Fibonacci series and determine its time complexity.\\n\\n### Code Walkthrough\\n\\nThe function `fibonacci_series(n)` generates the Fibonacci series up to the `n`-th element. \\n\\n1. **Base Cases**:\\n   - If \\\\( n \\\\leq 0 \\\\), it returns an empty list.\\n   - If \\\\( n = 1 \\\\), it returns a list containing only `0`.\\n   - If \\\\( n = 2 \\\\), it returns a list containing `[0, 1]`.\\n\\n2. **General Case**:\\n   - It initializes a list called `series` with the first two Fibonacci numbers, `[0, 1]`.\\n   - It then enters a loop that starts from index 2 and runs until `n-1` (this means it runs \\\\( n-2 \\\\) times).\\n   - For each iteration, it appends the sum of the last two elements of the list to the end of the list.\\n\\n### Time Complexity\\n\\nTo derive the time complexity, we consider the two main components:\\n- The `for` loop iterates from index 2 to \\\\( n-1 \\\\), which runs \\\\( n-2 \\\\) times.\\n- Each iteration of the loop performs a constant time operation (specifically, computing the sum of the last two elements and appending the result).\\n\\nHence, we can summarize the total number of operations as follows:\\n\\n- The time complexity to append an element to the list (in average case, considering amortized analysis) is \\\\( O(1) \\\\).\\n- The loop runs \\\\( n-2 \\\\) times.\\n\\nPutting these together, the overall time complexity of the function is:\\n\\\\[\\nO(n)\\n\\\\]\\n\\n### Space Complexity\\n\\nIn terms of space complexity:\\n- The space required to store the Fibonacci series is proportional to `n`, since it builds a list containing `n` elements in the worst case.\\n- This results in a space complexity of:\\n\\\\[\\nO(n)\\n\\\\]\\n\\n### Summary\\n\\n- **Time Complexity**: \\\\( O(n) \\\\)\\n- **Space Complexity**: \\\\( O(n) \\\\)\\n\\nThe function efficiently generates the Fibonacci series up to the `n`-th term with linear time and space complexity.\""
      ]
     },
     "execution_count": 28,
     "metadata": {},
     "output_type": "execute_result"
    }
   ],
   "source": [
    "final_chain.invoke({'text': \"fibonacci series\"})"
   ]
  },
  {
   "cell_type": "markdown",
   "id": "b48fbfca",
   "metadata": {},
   "source": [
    "## LangChain Tools"
   ]
  },
  {
   "cell_type": "code",
   "execution_count": 29,
   "id": "2ef615ea",
   "metadata": {},
   "outputs": [
    {
     "data": {
      "text/plain": [
       "'Page: Shah Rukh Khan\\nSummary: Shah Rukh Khan (pronounced [ˈʃaːɦɾʊx xäːn] ; born 2 November 1965), also known by the initialism SRK, is an Indian actor and film producer who works in Hindi cinema. Referred to in the media as the \"Baadshah of Bollywood\" and \"King Khan\", he has appeared in more than 100 films, and earned numerous accolades, including 14 Filmfare Awards. He has been awarded the Padma Shri by the Government of India, as well as the Order of Arts and Letters and Legion of Honour by the Government of France. Khan has a significant following in Asia and the Indian diaspora worldwide. In terms of audience size and income, several media outlets have described him as one of the most successful film stars in the world. Many of his films thematise Indian national identity and connections with diaspora communities, or gender, racial, social and religious differences and grievances.\\nKhan began his career with appearances in several television series in the late 1980s and made his Bollywood debut in 1992 with the musical romance Deewana. He was initially recognised for playing villainous roles in the films Baazigar (1993) and Darr (1993). Khan established himself by starring in a series of top-grossing romantic films, including Dilwale Dulhania Le Jayenge (1995), Dil To Pagal Hai (1997), Kuch Kuch Hota Hai (1998), Mohabbatein (2000), Kabhi Khushi Kabhie Gham... (2001), Kal Ho Naa Ho (2003), Veer-Zaara (2004) and Kabhi Alvida Naa Kehna (2006). He earned critical acclaim for his portrayal of an alcoholic in the period romantic drama Devdas (2002), a NASA scientist in the social drama Swades (2004), a hockey coach in the sports drama Chak De! India (2007), and a man with Asperger syndrome in the drama My Name Is Khan (2010). Further commercial successes came with the romances Om Shanti Om (2007) and Rab Ne Bana Di Jodi (2008), and with his expansion to comedies in Chennai Express (2013) and Happy New Year (2014). Following a brief setback and hiatus, Khan made a career comeback with the 2023 action thrillers Pathaan and Jawan, both of which rank among the highest-grossing Indian films.\\nAs of 2015, Khan is co-chairman of the motion picture production company Red Chillies Entertainment and its subsidiaries and is the co-owner of the Indian Premier League cricket team Kolkata Knight Riders and the Caribbean Premier League team Trinbago Knight Riders. The media often label him as \"Brand SRK\" because of his many endorsements and entrepreneurship ventures. He is a frequent television presenter and stage show performer. Khan\\'s philanthropic endeavours have provided health care and disaster relief, and he was honoured with UNESCO\\'s Pyramide con Marni award in 2011 for his support of children\\'s education and the World Economic Forum\\'s Crystal Award in 2018 for advocating for women\\'s and children\\'s rights in India. He regularly features in listings of the most influential people in Indian culture, and in 2008, Newsweek named him one of their fifty most powerful people in the world. In 2022, Khan was voted one of the 50 greatest actors of all time in a readers\\' poll by Empire, and in 2023, Time named him as one of the most influential people in the world.\\n\\n\\n\\nPage: Shahrukh Khan (cricketer)\\nSummary: Masood Shahrukh Khan (born 27 May 1995) is an Indian cricketer who plays as an Batter for Tamil Nadu in domestic cricket. He is a right-handed batter and an off spin bowler. In the 2024 IPL auction, he was signed by Gujarat Titans who bid 7.4 crore for his services. Khan has played for Punjab Kings in the Indian Premier League (IPL) from 2021 to 2023.\\n\\nPage: Shah Rukh Khan filmography\\nSummary: Shah Rukh Khan is an Indian actor, producer and television personality who works in Hindi films. He began his acting career by playing a soldier in the Doordarshan series Fauji (1988), a role that garnered him recognition and led to starring roles in more television shows. He soon started receiving film offers and had his first release with the romantic dr'"
      ]
     },
     "execution_count": 29,
     "metadata": {},
     "output_type": "execute_result"
    }
   ],
   "source": [
    "from langchain_community.tools  import WikipediaQueryRun\n",
    "from langchain_community.utilities import WikipediaAPIWrapper\n",
    "\n",
    "wiki_api = WikipediaAPIWrapper(top_k_results=3, lang=\"en\", doc_content_chars_max= 4000)\n",
    "tool = WikipediaQueryRun(api_wrapper=wiki_api)\n",
    "\n",
    "tool.invoke(\"Shahrukh Khan\")"
   ]
  },
  {
   "cell_type": "code",
   "execution_count": 30,
   "id": "dc255091",
   "metadata": {},
   "outputs": [
    {
     "name": "stdout",
     "output_type": "stream",
     "text": [
      "A wrapper around Wikipedia. Useful for when you need to answer general questions about people, places, companies, facts, historical events, or other subjects. Input should be a search query.\n",
      "wikipedia\n",
      "{'query': {'description': 'query to look up on wikipedia', 'title': 'Query', 'type': 'string'}}\n"
     ]
    }
   ],
   "source": [
    "print(tool.description)\n",
    "print(tool.name)\n",
    "print(tool.args)"
   ]
  },
  {
   "cell_type": "code",
   "execution_count": null,
   "id": "32b238d3",
   "metadata": {},
   "outputs": [],
   "source": [
    "search_prompt_template = ChatPromptTemplate.from_template(\"generate a query to be searched on wikipedia for the user question {question}\")\n"
   ]
  },
  {
   "cell_type": "code",
   "execution_count": 37,
   "id": "ffe640d7",
   "metadata": {},
   "outputs": [],
   "source": [
    "def format_wiki(topic):\n",
    "    print(topic)\n",
    "    return topic\n",
    "wiki_chain = search_prompt_template | model | parser | format_wiki | tool | parser "
   ]
  },
  {
   "cell_type": "code",
   "execution_count": 39,
   "id": "3fab4f59",
   "metadata": {},
   "outputs": [
    {
     "name": "stdout",
     "output_type": "stream",
     "text": [
      "You can use the following query to search on Wikipedia for more information about Kareena Kapoor:\n",
      "\n",
      "```\n",
      "Kareena Kapoor site:wikipedia.org\n",
      "```\n",
      "\n",
      "This will direct you to her Wikipedia page, where you can find detailed information about her life, career, and projects.\n"
     ]
    },
    {
     "data": {
      "text/plain": [
       "'Page: List of films considered the worst\\nSummary: The films listed below have been cited by a variety of notable critics in varying media sources as being among the worst films ever made. Examples of such sources include Metacritic, Roger Ebert\\'s list of most-hated films, The Golden Turkey Awards, Leonard Maltin\\'s Movie Guide, Rotten Tomatoes, pop culture writer Nathan Rabin\\'s My World of Flops, the Stinkers Bad Movie Awards, the cult TV series Mystery Science Theater 3000 (alongside spinoffs Cinematic Titanic, The Film Crew and RiffTrax), and the Golden Raspberry Awards (aka the \"Razzies\"). Films on these lists are generally feature-length films that are commercial/artistic in nature (intended to turn a profit, express personal statements or both), professionally or independently produced (as opposed to amateur productions, such as home movies), and released in theaters, then on home video.'"
      ]
     },
     "execution_count": 39,
     "metadata": {},
     "output_type": "execute_result"
    }
   ],
   "source": [
    "wiki_chain.invoke({\"question\" : \"I want to know more about Kareena kapoor\"})"
   ]
  },
  {
   "cell_type": "code",
   "execution_count": null,
   "id": "5df595d4",
   "metadata": {},
   "outputs": [],
   "source": []
  }
 ],
 "metadata": {
  "kernelspec": {
   "display_name": "gen-ai",
   "language": "python",
   "name": "python3"
  },
  "language_info": {
   "codemirror_mode": {
    "name": "ipython",
    "version": 3
   },
   "file_extension": ".py",
   "mimetype": "text/x-python",
   "name": "python",
   "nbconvert_exporter": "python",
   "pygments_lexer": "ipython3",
   "version": "3.12.3"
  }
 },
 "nbformat": 4,
 "nbformat_minor": 5
}
