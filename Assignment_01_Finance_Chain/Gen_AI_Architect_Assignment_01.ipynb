{
  "cells": [
    {
      "cell_type": "code",
      "execution_count": 1,
      "metadata": {
        "id": "5fhdveMwGkoG"
      },
      "outputs": [
        {
          "name": "stdout",
          "output_type": "stream",
          "text": [
            "Note: you may need to restart the kernel to use updated packages.\n"
          ]
        }
      ],
      "source": [
        "pip install --quiet langfuse langchain_openai langchain_community"
      ]
    },
    {
      "cell_type": "code",
      "execution_count": null,
      "metadata": {
        "id": "C3eWEeOe-nnk"
      },
      "outputs": [],
      "source": [
        "import os\n",
        "\n",
        "AZURE_OPENAI_API_KEY = \"\"\n",
        "AZURE_OPENAI_ENDPOINT = \"\"\n",
        "\n",
        "os.environ['AZURE_OPENAI_API_KEY'] = AZURE_OPENAI_API_KEY\n",
        "os.environ['AZURE_OPENAI_ENDPOINT'] = AZURE_OPENAI_ENDPOINT\n",
        "\n",
        "os.environ[\"LANGFUSE_PUBLIC_KEY\"] = \"\"\n",
        "os.environ[\"LANGFUSE_SECRET_KEY\"] = \"\"\n",
        "os.environ[\"LANGFUSE_HOST\"] = \"https://cloud.langfuse.com\" #\"http://localhost:3000\"\n",
        "\n"
      ]
    },
    {
      "cell_type": "code",
      "execution_count": null,
      "metadata": {},
      "outputs": [],
      "source": [
        "from langfuse import Langfuse\n",
        "from langfuse.callback import CallbackHandler\n",
        "\n",
        "# Initialize Langfuse client (prompt management)\n",
        "langfuse = Langfuse()\n",
        "\n",
        "# Initialize Langfuse CallbackHandler for Langchain (tracing)\n",
        "langfuse_callback_handler = CallbackHandler()\n",
        "\n",
        "# Optional, verify that Langfuse is configured correctly\n",
        "assert langfuse.auth_check()\n",
        "assert langfuse_callback_handler.auth_check()"
      ]
    },
    {
      "cell_type": "code",
      "execution_count": 5,
      "metadata": {
        "id": "ef1zfrkwHNC2"
      },
      "outputs": [],
      "source": [
        "lf = Langfuse(public_key=os.getenv(\"LANGFUSE_PUBLIC_KEY\"),\n",
        "              secret_key=os.getenv(\"LANGFUSE_SECRET_KEY\"),\n",
        "              host=os.getenv(\"LANGFUSE_HOST\", \"http://localhost:3000\"))"
      ]
    },
    {
      "cell_type": "code",
      "execution_count": 6,
      "metadata": {
        "id": "9HbTQxiN-wJL"
      },
      "outputs": [],
      "source": [
        "from langchain_openai import AzureChatOpenAI\n",
        "\n",
        "model = AzureChatOpenAI(api_version=\"2024-12-01-preview\",model='finance-gpt-v2')"
      ]
    },
    {
      "cell_type": "code",
      "execution_count": 7,
      "metadata": {
        "colab": {
          "base_uri": "https://localhost:8080/"
        },
        "id": "hWyjIT1uAw6L",
        "outputId": "3a38f319-be79-4d02-8557-8d6f97342fe3"
      },
      "outputs": [],
      "source": [
        "company_name = input ('please mention the name of the company: ')"
      ]
    },
    {
      "cell_type": "code",
      "execution_count": 8,
      "metadata": {
        "id": "wIdhl4gPAw39"
      },
      "outputs": [],
      "source": [
        "# Create a chat prompt\n",
        "getting_ticker_prompt = lf.create_prompt(\n",
        "    name=\"get_company_ticker_v2\",\n",
        "    prompt=\"You are a financial expert, get the ticker name for the {company_name} user have mentioned. Please return only the ticker and nothing else\",\n",
        "\n",
        "    labels=[\"production\"],  # directly promote to production\n",
        "    config={\n",
        "        # \"model\": model,\n",
        "        \"temperature\": 0.7,\n",
        "        \"supported_languages\": [\"en\", \"fr\"],\n",
        "    },  # optionally, add configs (e.g. model parameters or model tools) or tags\n",
        ")"
      ]
    },
    {
      "cell_type": "code",
      "execution_count": 9,
      "metadata": {
        "id": "EJyo70Y3Aw1o"
      },
      "outputs": [],
      "source": [
        "from langchain_core.output_parsers import StrOutputParser\n",
        "\n",
        "# Create parser\n",
        "parser = StrOutputParser()"
      ]
    },
    {
      "cell_type": "code",
      "execution_count": 10,
      "metadata": {
        "id": "_kFu49iscNVa"
      },
      "outputs": [
        {
          "name": "stderr",
          "output_type": "stream",
          "text": [
            "USER_AGENT environment variable not set, consider setting it to identify your requests.\n"
          ]
        }
      ],
      "source": [
        "from langchain_community.tools.yahoo_finance_news import YahooFinanceNewsTool\n",
        "tool = YahooFinanceNewsTool()"
      ]
    },
    {
      "cell_type": "code",
      "execution_count": null,
      "metadata": {
        "id": "TvuiMCpkEZAX"
      },
      "outputs": [],
      "source": [
        "import re\n",
        "def clean_and_truncate(text, max_length=100):\n",
        "    # Remove extra whitespace (newlines, tabs, multiple spaces)\n",
        "    cleaned = re.sub(r'\\s+', ' ', text).strip()\n",
        "    # Return only the first `max_length` characters\n",
        "    return cleaned[:max_length]"
      ]
    },
    {
      "cell_type": "code",
      "execution_count": 13,
      "metadata": {
        "id": "yH4aQEN25xRN"
      },
      "outputs": [],
      "source": [
        "from langchain.output_parsers import StructuredOutputParser, ResponseSchema"
      ]
    },
    {
      "cell_type": "code",
      "execution_count": 14,
      "metadata": {
        "id": "wEnykD515xG9"
      },
      "outputs": [],
      "source": [
        "response_schemas = [\n",
        "    ResponseSchema(name=\"company_name\", description=\"The name of the company\"),\n",
        "    ResponseSchema(name=\"stock_code\", description=\"The stock code of the company\"),\n",
        "    ResponseSchema(name=\"Sentiment\", description=\"The sentiment of the news, Positive, Negative, Neutral\"),\n",
        "    ResponseSchema(name=\"People_names\", description=\"The names of the people mentioned in the news\"),\n",
        "    ResponseSchema(name=\"Places_names\", description=\"The names of the places mentioned in the news\"),\n",
        "    ResponseSchema(name=\"Other_companies_referred\", description=\"The names of the companies mentioned in the news\"),\n",
        "    ResponseSchema(name=\"related_industries\", description=\"The industries mentioned in the news\"),\n",
        "    ResponseSchema(name=\"market_implications\", description=\"The market implications mentioned in the news\"),\n",
        "    ResponseSchema(name=\"confidence_score\", description=\"The confidence score of the news\", type = \"float\"),\n",
        "]"
      ]
    },
    {
      "cell_type": "code",
      "execution_count": 15,
      "metadata": {
        "id": "ccVwvR0c48_T"
      },
      "outputs": [],
      "source": [
        "final_output_parser = StructuredOutputParser.from_response_schemas(response_schemas)\n",
        "format_instructions = final_output_parser.get_format_instructions()"
      ]
    },
    {
      "cell_type": "code",
      "execution_count": 16,
      "metadata": {
        "id": "0tCDfr4zbynH"
      },
      "outputs": [],
      "source": [
        "# Create a chat prompt\n",
        "getting_sentiment_prompt = lf.create_prompt(\n",
        "    name=\"get_news_sentiment_v2\",\n",
        "    prompt=\"\"\"You are a financial analyst. Analyze the following {text_input} about a company and extract the requested\n",
        "    information in the follwoing JSON format.{format_instructions}\"\"\",\n",
        "    labels=[\"production\"],  # directly promote to production\n",
        "    config={\n",
        "        # \"model\": model,\n",
        "        \"temperature\": 0.7,\n",
        "        \"supported_languages\": [\"en\", \"fr\"],\n",
        "    },  # optionally, add configs (e.g. model parameters or model tools) or tags\n",
        ")\n"
      ]
    },
    {
      "cell_type": "code",
      "execution_count": 17,
      "metadata": {
        "id": "IQQkDJd--NL0"
      },
      "outputs": [],
      "source": [
        "from langchain_core.runnables import RunnableLambda\n",
        "\n",
        "format_sentiment_input = RunnableLambda(\n",
        "    lambda text_input: {\n",
        "\n",
        "        \"text_input\": text_input,\n",
        "        \"format_instructions\": format_instructions\n",
        "    }\n",
        ")"
      ]
    },
    {
      "cell_type": "code",
      "execution_count": 18,
      "metadata": {
        "id": "EURks3eoKboG"
      },
      "outputs": [],
      "source": [
        "ticker_prompt = lf.get_prompt(\"get_company_ticker_v2\")\n",
        "sentiment_prompt = lf.get_prompt(\"get_news_sentiment_v2\")"
      ]
    },
    {
      "cell_type": "code",
      "execution_count": 19,
      "metadata": {
        "id": "m9GIE919Ojyq"
      },
      "outputs": [],
      "source": [
        "from langchain_core.prompts import ChatPromptTemplate\n",
        "\n",
        "ticker_prompt_langchain = ChatPromptTemplate.from_template(\n",
        "        ticker_prompt.get_langchain_prompt(),\n",
        "        metadata={\"ticker_prompt\": ticker_prompt},\n",
        "    )\n",
        "\n",
        "sentiment_prompt_langchain = ChatPromptTemplate.from_template(\n",
        "        sentiment_prompt.get_langchain_prompt(),\n",
        "        metadata={\"sentiment_prompt\": sentiment_prompt},\n",
        "    )"
      ]
    },
    {
      "cell_type": "code",
      "execution_count": 20,
      "metadata": {
        "id": "ZTECnytWQIN3"
      },
      "outputs": [],
      "source": [
        "chain = ticker_prompt_langchain | model | parser | tool | clean_and_truncate | format_sentiment_input | sentiment_prompt_langchain | model | final_output_parser"
      ]
    },
    {
      "cell_type": "code",
      "execution_count": null,
      "metadata": {
        "colab": {
          "base_uri": "https://localhost:8080/"
        },
        "id": "a-L2rfqBQOa-",
        "outputId": "e3563345-0af3-47f9-ec38-b26ef4f7e291"
      },
      "outputs": [],
      "source": [
        "chain.invoke({\"company_name\": company_name})"
      ]
    },
    {
      "cell_type": "code",
      "execution_count": null,
      "metadata": {},
      "outputs": [],
      "source": []
    }
  ],
  "metadata": {
    "colab": {
      "provenance": []
    },
    "kernelspec": {
      "display_name": "gen-ai",
      "language": "python",
      "name": "python3"
    },
    "language_info": {
      "codemirror_mode": {
        "name": "ipython",
        "version": 3
      },
      "file_extension": ".py",
      "mimetype": "text/x-python",
      "name": "python",
      "nbconvert_exporter": "python",
      "pygments_lexer": "ipython3",
      "version": "3.12.3"
    }
  },
  "nbformat": 4,
  "nbformat_minor": 0
}
