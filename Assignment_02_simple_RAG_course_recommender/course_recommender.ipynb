{
 "cells": [
  {
   "cell_type": "code",
   "execution_count": null,
   "id": "dbf2cb4e",
   "metadata": {},
   "outputs": [],
   "source": [
    "import pandas as pd\n",
    "from dotenv import load_dotenv\n",
    "import os \n",
    "import weaviate\n",
    "from weaviate.classes.init import Auth\n",
    "from sentence_transformers import SentenceTransformer\n",
    "import weaviate.classes as wvc\n",
    "from weaviate.classes.config import Property, DataType, Configure, VectorDistances"
   ]
  },
  {
   "cell_type": "code",
   "execution_count": 5,
   "id": "1b675616",
   "metadata": {},
   "outputs": [],
   "source": [
    "courses_data = pd.read_csv('Assignment_02_data.csv')"
   ]
  },
  {
   "cell_type": "code",
   "execution_count": 11,
   "id": "a6c49294",
   "metadata": {},
   "outputs": [
    {
     "data": {
      "text/plain": [
       "True"
      ]
     },
     "execution_count": 11,
     "metadata": {},
     "output_type": "execute_result"
    }
   ],
   "source": [
    "# Load the .env file\n",
    "load_dotenv()"
   ]
  },
  {
   "cell_type": "code",
   "execution_count": 15,
   "id": "c6e2dd1d",
   "metadata": {},
   "outputs": [],
   "source": [
    "# Best practice: store your weaviate credentials in environment variables\n",
    "weaviate_url = os.getenv(\"WEAVIATE_URL\")\n",
    "weaviate_api_key = os.getenv(\"WEAVIATE_API_KEY\")"
   ]
  },
  {
   "cell_type": "code",
   "execution_count": 22,
   "id": "a6806895",
   "metadata": {},
   "outputs": [
    {
     "name": "stdout",
     "output_type": "stream",
     "text": [
      "True\n"
     ]
    }
   ],
   "source": [
    "client = weaviate.connect_to_weaviate_cloud(\n",
    "    cluster_url=weaviate_url,\n",
    "    auth_credentials=Auth.api_key(weaviate_api_key),\n",
    ")\n",
    "\n",
    "print(client.is_ready())  # Should print: `True`\n",
    "\n",
    "# client.close()"
   ]
  },
  {
   "cell_type": "code",
   "execution_count": 27,
   "id": "dabe0531",
   "metadata": {},
   "outputs": [
    {
     "data": {
      "text/html": [
       "<div>\n",
       "<style scoped>\n",
       "    .dataframe tbody tr th:only-of-type {\n",
       "        vertical-align: middle;\n",
       "    }\n",
       "\n",
       "    .dataframe tbody tr th {\n",
       "        vertical-align: top;\n",
       "    }\n",
       "\n",
       "    .dataframe thead th {\n",
       "        text-align: right;\n",
       "    }\n",
       "</style>\n",
       "<table border=\"1\" class=\"dataframe\">\n",
       "  <thead>\n",
       "    <tr style=\"text-align: right;\">\n",
       "      <th></th>\n",
       "      <th>course_id</th>\n",
       "      <th>title</th>\n",
       "      <th>description</th>\n",
       "    </tr>\n",
       "  </thead>\n",
       "  <tbody>\n",
       "    <tr>\n",
       "      <th>0</th>\n",
       "      <td>C001</td>\n",
       "      <td>Foundations of Machine Learning</td>\n",
       "      <td>Understand foundational machine learning algor...</td>\n",
       "    </tr>\n",
       "    <tr>\n",
       "      <th>1</th>\n",
       "      <td>C002</td>\n",
       "      <td>Deep Learning with TensorFlow and Keras</td>\n",
       "      <td>Explore neural network architectures using Ten...</td>\n",
       "    </tr>\n",
       "    <tr>\n",
       "      <th>2</th>\n",
       "      <td>C003</td>\n",
       "      <td>Natural Language Processing Fundamentals</td>\n",
       "      <td>Dive into NLP techniques for processing and un...</td>\n",
       "    </tr>\n",
       "    <tr>\n",
       "      <th>3</th>\n",
       "      <td>C004</td>\n",
       "      <td>Computer Vision and Image Processing</td>\n",
       "      <td>Learn the principles of computer vision and im...</td>\n",
       "    </tr>\n",
       "    <tr>\n",
       "      <th>4</th>\n",
       "      <td>C005</td>\n",
       "      <td>Reinforcement Learning Basics</td>\n",
       "      <td>Get introduced to reinforcement learning parad...</td>\n",
       "    </tr>\n",
       "  </tbody>\n",
       "</table>\n",
       "</div>"
      ],
      "text/plain": [
       "  course_id                                     title  \\\n",
       "0      C001           Foundations of Machine Learning   \n",
       "1      C002   Deep Learning with TensorFlow and Keras   \n",
       "2      C003  Natural Language Processing Fundamentals   \n",
       "3      C004      Computer Vision and Image Processing   \n",
       "4      C005             Reinforcement Learning Basics   \n",
       "\n",
       "                                         description  \n",
       "0  Understand foundational machine learning algor...  \n",
       "1  Explore neural network architectures using Ten...  \n",
       "2  Dive into NLP techniques for processing and un...  \n",
       "3  Learn the principles of computer vision and im...  \n",
       "4  Get introduced to reinforcement learning parad...  "
      ]
     },
     "execution_count": 27,
     "metadata": {},
     "output_type": "execute_result"
    }
   ],
   "source": [
    "courses_data.head()"
   ]
  },
  {
   "cell_type": "code",
   "execution_count": 30,
   "id": "ecac4aed",
   "metadata": {},
   "outputs": [],
   "source": [
    "client.collections.delete_all()\n"
   ]
  },
  {
   "cell_type": "code",
   "execution_count": null,
   "id": "49623370",
   "metadata": {},
   "outputs": [],
   "source": [
    "\n",
    "client.collections.create(\n",
    "    name=\"Course\",\n",
    "    properties=[\n",
    "        Property(name=\"course_id\", data_type=DataType.TEXT),\n",
    "        Property(name=\"title\", data_type=DataType.TEXT),\n",
    "        Property(name=\"description\", data_type=DataType.TEXT),\n",
    "    ],\n",
    "    vectorizer_config=Configure.Vectorizer.none(),\n",
    "    vector_index_config=Configure.VectorIndex.hnsw(\n",
    "        distance_metric=VectorDistances.COSINE  \n",
    "    ),\n",
    ")\n",
    "\n",
    "collection = client.collections.get(\"Course\")\n",
    "\n",
    "# Embed and upload\n",
    "model = SentenceTransformer(\"all-MiniLM-L6-v2\")\n",
    "\n",
    "for _, row in courses_data.iterrows():\n",
    "    text_input = f\"{row['title']}. {row['description']}\"\n",
    "    vector = model.encode(text_input).tolist()\n",
    "    \n",
    "    collection.data.insert(\n",
    "        properties={\n",
    "            \"course_id\": str(row[\"course_id\"]),\n",
    "            \"title\": row[\"title\"],\n",
    "            \"description\": row[\"description\"]\n",
    "        },\n",
    "        vector=vector\n",
    "    )\n"
   ]
  },
  {
   "cell_type": "code",
   "execution_count": null,
   "id": "b2b944c3",
   "metadata": {},
   "outputs": [],
   "source": [
    "from weaviate.collections.classes.grpc import MetadataQuery\n",
    "from sentence_transformers import SentenceTransformer\n",
    "\n",
    "# Load embedding model\n",
    "model = SentenceTransformer(\"all-MiniLM-L6-v2\")\n",
    "\n",
    "# Get collection\n",
    "collection = client.collections.get(\"Course\")\n",
    "\n",
    "def course_recommender():\n",
    "    \"\"\"\n",
    "    Recommend courses based on user profile.\n",
    "    \n",
    "    Args:\n",
    "        user_profile (str): User's learning interests and background.\n",
    "        \n",
    "    Returns:\n",
    "        List of recommended courses.\n",
    "    \"\"\"\n",
    "\n",
    "    user_profile = input(\"Enter your learning interests and background: \")\n",
    "    # Ensure the user profile is not empty\n",
    "    if not user_profile.strip():\n",
    "        print(\"User profile cannot be empty.\")\n",
    "        return []\n",
    "    \n",
    "    print(f\"\\nUser Profile: {user_profile}\\n\")\n",
    "\n",
    "    # Encode user profile\n",
    "    query_vector = model.encode(user_profile).tolist()\n",
    "    \n",
    "    # Query Weaviate for similar courses\n",
    "    results = collection.query.near_vector(\n",
    "        near_vector=query_vector,\n",
    "        limit=5,\n",
    "        return_metadata=MetadataQuery(distance=True)\n",
    "    )\n",
    "\n",
    "    print(\"\\nTop 5 Matching Courses:\\n\")\n",
    "    for obj in results.objects:\n",
    "        print(f\"Title: {obj.properties['title']}\")\n",
    "        print(f\"Description: {obj.properties['description']}\")\n",
    "        print(f\"Course ID: {obj.properties['course_id']}\")\n",
    "        print(f\"Cosine Distance: {obj.metadata.distance:.4f}\")\n",
    "        print(\"-\" * 50)\n",
    "    \n",
    "    return results.objects\n"
   ]
  },
  {
   "cell_type": "code",
   "execution_count": null,
   "id": "8f01564f",
   "metadata": {},
   "outputs": [
    {
     "name": "stdout",
     "output_type": "stream",
     "text": [
      "\n",
      "User Profile: I already know AWS basics and want to dive into cloud security and architecture.\n",
      "\n",
      "\n",
      "Top 5 Matching Courses:\n",
      "\n",
      "Title: Data Engineering on AWS\n",
      "Description: Build scalable data pipelines using AWS services. This course covers S3 data lakes, AWS Glue ETL jobs, AWS Lambda for serverless transformations, Amazon Redshift for warehousing, and AWS Kinesis for streaming ingestion. You’ll design end-to-end pipelines, automate workflows with AWS Step Functions, and monitor performance using CloudWatch, enabling robust, cost-effective data engineering solutions on the AWS cloud.\n",
      "Course ID: C006\n",
      "Cosine Distance: 0.4411\n",
      "--------------------------------------------------\n",
      "Title: APIs and Microservices Architecture\n",
      "Description: Design and implement RESTful and GraphQL APIs using Node.js, Express, or Python FastAPI. Learn microservices patterns: service discovery, circuit breakers, and API gateways. Topics include containerized deployment, versioning strategies, and security best practices (OAuth2, JWT). Labs guide you through building, testing, and deploying interconnected services, enabling scalable, maintainable distributed systems.\n",
      "Course ID: C010\n",
      "Cosine Distance: 0.5391\n",
      "--------------------------------------------------\n",
      "Title: Cloud Computing with Azure\n",
      "Description: Master Microsoft Azure’s core services: virtual machines, Azure Functions, Azure SQL Database, Cosmos DB, and Azure Kubernetes Service. Learn to deploy scalable web applications, configure networking and security, and implement infrastructure-as-code with ARM templates. Hands-on labs guide you through resource provisioning, cost management, and best practices for high availability and disaster recovery in Azure.\n",
      "Course ID: C007\n",
      "Cosine Distance: 0.5411\n",
      "--------------------------------------------------\n",
      "Title: Cybersecurity Fundamentals\n",
      "Description: Get introduced to cybersecurity principles: threat modeling, encryption, network security, and incident response. Learn about common vulnerabilities (OWASP Top 10), secure coding practices, and vulnerability assessment tools. Hands-on labs include configuring firewalls, running penetration tests with Kali Linux, and implementing multi-factor authentication, preparing you to protect systems and data against modern cyber threats.\n",
      "Course ID: C021\n",
      "Cosine Distance: 0.5570\n",
      "--------------------------------------------------\n",
      "Title: Internet of Things (IoT) Development\n",
      "Description: Explore IoT architecture, sensors, and edge computing. Use Raspberry Pi or Arduino to collect data, process it with MQTT, and store it in cloud services. Topics include device provisioning, security, and real-time analytics. Hands-on projects build smart home prototypes and industrial monitoring solutions, teaching you end-to-end IoT development and deployment best practices.\n",
      "Course ID: C022\n",
      "Cosine Distance: 0.6075\n",
      "--------------------------------------------------\n"
     ]
    },
    {
     "data": {
      "text/plain": [
       "[GenerativeObject(uuid=_WeaviateUUIDInt('726af503-c430-4c92-8da2-ee714ef4a217'), metadata=MetadataReturn(creation_time=None, last_update_time=None, distance=0.4410693049430847, certainty=None, score=None, explain_score=None, is_consistent=None, rerank_score=None), properties={'title': 'Data Engineering on AWS', 'description': 'Build scalable data pipelines using AWS services. This course covers S3 data lakes, AWS Glue ETL jobs, AWS Lambda for serverless transformations, Amazon Redshift for warehousing, and AWS Kinesis for streaming ingestion. You’ll design end-to-end pipelines, automate workflows with AWS Step Functions, and monitor performance using CloudWatch, enabling robust, cost-effective data engineering solutions on the AWS cloud.', 'course_id': 'C006'}, references=None, vector={}, collection='Course'),\n",
       " GenerativeObject(uuid=_WeaviateUUIDInt('83e5d808-ddcd-43a2-bb6a-7e19e19db3d4'), metadata=MetadataReturn(creation_time=None, last_update_time=None, distance=0.5391038656234741, certainty=None, score=None, explain_score=None, is_consistent=None, rerank_score=None), properties={'description': 'Design and implement RESTful and GraphQL APIs using Node.js, Express, or Python FastAPI. Learn microservices patterns: service discovery, circuit breakers, and API gateways. Topics include containerized deployment, versioning strategies, and security best practices (OAuth2, JWT). Labs guide you through building, testing, and deploying interconnected services, enabling scalable, maintainable distributed systems.', 'title': 'APIs and Microservices Architecture', 'course_id': 'C010'}, references=None, vector={}, collection='Course'),\n",
       " GenerativeObject(uuid=_WeaviateUUIDInt('4831b1d7-00c4-4ea6-8ca2-8db35cd9103a'), metadata=MetadataReturn(creation_time=None, last_update_time=None, distance=0.5410528182983398, certainty=None, score=None, explain_score=None, is_consistent=None, rerank_score=None), properties={'title': 'Cloud Computing with Azure', 'description': 'Master Microsoft Azure’s core services: virtual machines, Azure Functions, Azure SQL Database, Cosmos DB, and Azure Kubernetes Service. Learn to deploy scalable web applications, configure networking and security, and implement infrastructure-as-code with ARM templates. Hands-on labs guide you through resource provisioning, cost management, and best practices for high availability and disaster recovery in Azure.', 'course_id': 'C007'}, references=None, vector={}, collection='Course'),\n",
       " GenerativeObject(uuid=_WeaviateUUIDInt('5c05ad68-612f-4bda-82f6-79b235428da5'), metadata=MetadataReturn(creation_time=None, last_update_time=None, distance=0.5569782257080078, certainty=None, score=None, explain_score=None, is_consistent=None, rerank_score=None), properties={'title': 'Cybersecurity Fundamentals', 'description': 'Get introduced to cybersecurity principles: threat modeling, encryption, network security, and incident response. Learn about common vulnerabilities (OWASP Top 10), secure coding practices, and vulnerability assessment tools. Hands-on labs include configuring firewalls, running penetration tests with Kali Linux, and implementing multi-factor authentication, preparing you to protect systems and data against modern cyber threats.', 'course_id': 'C021'}, references=None, vector={}, collection='Course'),\n",
       " GenerativeObject(uuid=_WeaviateUUIDInt('0628be03-95cf-4178-8e49-27b4bfc5bd16'), metadata=MetadataReturn(creation_time=None, last_update_time=None, distance=0.6074730753898621, certainty=None, score=None, explain_score=None, is_consistent=None, rerank_score=None), properties={'title': 'Internet of Things (IoT) Development', 'description': 'Explore IoT architecture, sensors, and edge computing. Use Raspberry Pi or Arduino to collect data, process it with MQTT, and store it in cloud services. Topics include device provisioning, security, and real-time analytics. Hands-on projects build smart home prototypes and industrial monitoring solutions, teaching you end-to-end IoT development and deployment best practices.', 'course_id': 'C022'}, references=None, vector={}, collection='Course')]"
      ]
     },
     "execution_count": 43,
     "metadata": {},
     "output_type": "execute_result"
    }
   ],
   "source": [
    "course_recommender()          "
   ]
  },
  {
   "cell_type": "code",
   "execution_count": 44,
   "id": "3c2e6a4a",
   "metadata": {},
   "outputs": [
    {
     "name": "stdout",
     "output_type": "stream",
     "text": [
      "\n",
      "User Profile: I'm curious about image recognition and deep learning models that work with visual data.\n",
      "\n",
      "\n",
      "Top 5 Matching Courses:\n",
      "\n",
      "Title: Computer Vision and Image Processing\n",
      "Description: Learn the principles of computer vision and image processing. Topics include filtering, edge detection, feature extraction, image segmentation, object detection, and image classification using CNNs. Hands-on labs in Python leverage OpenCV, scikit-image, and TensorFlow. By project’s end, you will build a pipeline to analyze and classify images, detect objects, and perform real-time video processing.\n",
      "Course ID: C004\n",
      "Cosine Distance: 0.4464\n",
      "--------------------------------------------------\n",
      "Title: Deep Learning with TensorFlow and Keras\n",
      "Description: Explore neural network architectures using TensorFlow and Keras frameworks. This course covers feedforward networks, convolutional neural networks, recurrent neural networks, and transfer learning. Learn to build, train, evaluate, and optimize deep learning models for image classification, sequence modeling, and text processing. Includes hands-on labs and real-world project implementations with interactive exercises.\n",
      "Course ID: C002\n",
      "Cosine Distance: 0.4782\n",
      "--------------------------------------------------\n",
      "Title: Foundations of Machine Learning\n",
      "Description: Understand foundational machine learning algorithms including regression, classification, clustering, and dimensionality reduction. This course covers data pre-processing, feature engineering, model selection, hyperparameter tuning, and evaluation metrics. Hands-on labs use scikit-learn and Python to implement end-to-end workflows on real-world datasets, preparing learners for practical machine learning applications with interactive engaging exercises.\n",
      "Course ID: C001\n",
      "Cosine Distance: 0.6705\n",
      "--------------------------------------------------\n",
      "Title: MLOps: Productionizing Machine Learning\n",
      "Description: Master the practices needed to deploy and maintain ML models at scale. Topics include model versioning with MLflow, containerization, CI/CD for ML, monitoring with Prometheus, and data drift detection. You’ll build end-to-end pipelines that automate training, testing, deployment, and governance, ensuring robust, reproducible, and compliant machine learning systems in production environments.\n",
      "Course ID: C025\n",
      "Cosine Distance: 0.6994\n",
      "--------------------------------------------------\n",
      "Title: Natural Language Processing Fundamentals\n",
      "Description: Dive into NLP techniques for processing and understanding human language. You will learn tokenization, stemming, lemmatization, part-of-speech tagging, named entity recognition, and sentiment analysis. The course includes transformer architectures, attention mechanisms, and fine-tuning pre-trained language models. Hands-on Python labs use Hugging Face and spaCy for end-to-end natural language pipelines and projects.\n",
      "Course ID: C003\n",
      "Cosine Distance: 0.7024\n",
      "--------------------------------------------------\n"
     ]
    },
    {
     "data": {
      "text/plain": [
       "[GenerativeObject(uuid=_WeaviateUUIDInt('4ed7dd79-e702-4d79-968c-7f55dcf110b3'), metadata=MetadataReturn(creation_time=None, last_update_time=None, distance=0.4464082717895508, certainty=None, score=None, explain_score=None, is_consistent=None, rerank_score=None), properties={'title': 'Computer Vision and Image Processing', 'description': 'Learn the principles of computer vision and image processing. Topics include filtering, edge detection, feature extraction, image segmentation, object detection, and image classification using CNNs. Hands-on labs in Python leverage OpenCV, scikit-image, and TensorFlow. By project’s end, you will build a pipeline to analyze and classify images, detect objects, and perform real-time video processing.', 'course_id': 'C004'}, references=None, vector={}, collection='Course'),\n",
       " GenerativeObject(uuid=_WeaviateUUIDInt('d7c27128-6210-47ae-8900-bcb0869a196c'), metadata=MetadataReturn(creation_time=None, last_update_time=None, distance=0.4782135486602783, certainty=None, score=None, explain_score=None, is_consistent=None, rerank_score=None), properties={'title': 'Deep Learning with TensorFlow and Keras', 'description': 'Explore neural network architectures using TensorFlow and Keras frameworks. This course covers feedforward networks, convolutional neural networks, recurrent neural networks, and transfer learning. Learn to build, train, evaluate, and optimize deep learning models for image classification, sequence modeling, and text processing. Includes hands-on labs and real-world project implementations with interactive exercises.', 'course_id': 'C002'}, references=None, vector={}, collection='Course'),\n",
       " GenerativeObject(uuid=_WeaviateUUIDInt('96339745-df71-4017-bb67-54b0aa65295b'), metadata=MetadataReturn(creation_time=None, last_update_time=None, distance=0.6705152988433838, certainty=None, score=None, explain_score=None, is_consistent=None, rerank_score=None), properties={'description': 'Understand foundational machine learning algorithms including regression, classification, clustering, and dimensionality reduction. This course covers data pre-processing, feature engineering, model selection, hyperparameter tuning, and evaluation metrics. Hands-on labs use scikit-learn and Python to implement end-to-end workflows on real-world datasets, preparing learners for practical machine learning applications with interactive engaging exercises.', 'title': 'Foundations of Machine Learning', 'course_id': 'C001'}, references=None, vector={}, collection='Course'),\n",
       " GenerativeObject(uuid=_WeaviateUUIDInt('5768e843-16a9-4cd7-83c9-5b72c77bef08'), metadata=MetadataReturn(creation_time=None, last_update_time=None, distance=0.6993544697761536, certainty=None, score=None, explain_score=None, is_consistent=None, rerank_score=None), properties={'title': 'MLOps: Productionizing Machine Learning', 'description': 'Master the practices needed to deploy and maintain ML models at scale. Topics include model versioning with MLflow, containerization, CI/CD for ML, monitoring with Prometheus, and data drift detection. You’ll build end-to-end pipelines that automate training, testing, deployment, and governance, ensuring robust, reproducible, and compliant machine learning systems in production environments.', 'course_id': 'C025'}, references=None, vector={}, collection='Course'),\n",
       " GenerativeObject(uuid=_WeaviateUUIDInt('9432cf87-d3d9-4424-894a-dcf023a4b111'), metadata=MetadataReturn(creation_time=None, last_update_time=None, distance=0.7023688554763794, certainty=None, score=None, explain_score=None, is_consistent=None, rerank_score=None), properties={'description': 'Dive into NLP techniques for processing and understanding human language. You will learn tokenization, stemming, lemmatization, part-of-speech tagging, named entity recognition, and sentiment analysis. The course includes transformer architectures, attention mechanisms, and fine-tuning pre-trained language models. Hands-on Python labs use Hugging Face and spaCy for end-to-end natural language pipelines and projects.', 'title': 'Natural Language Processing Fundamentals', 'course_id': 'C003'}, references=None, vector={}, collection='Course')]"
      ]
     },
     "execution_count": 44,
     "metadata": {},
     "output_type": "execute_result"
    }
   ],
   "source": [
    "course_recommender()"
   ]
  },
  {
   "cell_type": "code",
   "execution_count": 45,
   "id": "fc832417",
   "metadata": {},
   "outputs": [
    {
     "name": "stdout",
     "output_type": "stream",
     "text": [
      "\n",
      "User Profile: I want to explore natural language understanding and text analytics.\n",
      "\n",
      "\n",
      "Top 5 Matching Courses:\n",
      "\n",
      "Title: Natural Language Processing Fundamentals\n",
      "Description: Dive into NLP techniques for processing and understanding human language. You will learn tokenization, stemming, lemmatization, part-of-speech tagging, named entity recognition, and sentiment analysis. The course includes transformer architectures, attention mechanisms, and fine-tuning pre-trained language models. Hands-on Python labs use Hugging Face and spaCy for end-to-end natural language pipelines and projects.\n",
      "Course ID: C003\n",
      "Cosine Distance: 0.4399\n",
      "--------------------------------------------------\n",
      "Title: R Programming and Statistical Analysis\n",
      "Description: Get introduced to R for statistical computing and graphics. Topics include data structures, control flow, and functional programming. Use tidyverse libraries—dplyr, ggplot2, tidyr—for data manipulation and visualization. Explore hypothesis testing, regression analysis, and ANOVA. Through labs, apply statistical methods to real-world datasets and communicate results with reproducible R Markdown reports.\n",
      "Course ID: C017\n",
      "Cosine Distance: 0.6329\n",
      "--------------------------------------------------\n",
      "Title: Big Data Analytics with Spark\n",
      "Description: Process and analyze large datasets using Apache Spark and PySpark. The course covers RDDs, DataFrames, Spark SQL, and MLlib for machine learning at scale. You’ll learn cluster deployment on YARN or Kubernetes, performance tuning, and structured streaming for real-time analytics. Hands-on projects include building ETL pipelines and interactive dashboards, unlocking insights from big data.\n",
      "Course ID: C011\n",
      "Cosine Distance: 0.6427\n",
      "--------------------------------------------------\n",
      "Title: Data Visualization with Tableau\n",
      "Description: Transform raw data into compelling visual stories using Tableau. Learn to connect to diverse data sources, create interactive dashboards, and apply best practices in chart selection. Topics include calculated fields, parameters, LOD expressions, and storytelling features. Through real-world case studies, you’ll design user-driven analytics that reveal trends and drive data-informed decision making.\n",
      "Course ID: C014\n",
      "Cosine Distance: 0.6629\n",
      "--------------------------------------------------\n",
      "Title: SQL for Data Analysis\n",
      "Description: Master SQL querying for data analysis and reporting. Topics include SELECT statements, JOINs, subqueries, window functions, CTEs, and aggregate functions. Practice on PostgreSQL or MySQL to manipulate data, generate summary statistics, and create analytical views. Labs cover query optimization, indexing strategies, and writing complex reports, empowering you to derive actionable insights from relational data.\n",
      "Course ID: C012\n",
      "Cosine Distance: 0.6699\n",
      "--------------------------------------------------\n"
     ]
    },
    {
     "data": {
      "text/plain": [
       "[GenerativeObject(uuid=_WeaviateUUIDInt('9432cf87-d3d9-4424-894a-dcf023a4b111'), metadata=MetadataReturn(creation_time=None, last_update_time=None, distance=0.4398918151855469, certainty=None, score=None, explain_score=None, is_consistent=None, rerank_score=None), properties={'title': 'Natural Language Processing Fundamentals', 'description': 'Dive into NLP techniques for processing and understanding human language. You will learn tokenization, stemming, lemmatization, part-of-speech tagging, named entity recognition, and sentiment analysis. The course includes transformer architectures, attention mechanisms, and fine-tuning pre-trained language models. Hands-on Python labs use Hugging Face and spaCy for end-to-end natural language pipelines and projects.', 'course_id': 'C003'}, references=None, vector={}, collection='Course'),\n",
       " GenerativeObject(uuid=_WeaviateUUIDInt('3c34a548-f976-49a3-b5bc-6038c394526e'), metadata=MetadataReturn(creation_time=None, last_update_time=None, distance=0.6328705549240112, certainty=None, score=None, explain_score=None, is_consistent=None, rerank_score=None), properties={'title': 'R Programming and Statistical Analysis', 'description': 'Get introduced to R for statistical computing and graphics. Topics include data structures, control flow, and functional programming. Use tidyverse libraries—dplyr, ggplot2, tidyr—for data manipulation and visualization. Explore hypothesis testing, regression analysis, and ANOVA. Through labs, apply statistical methods to real-world datasets and communicate results with reproducible R Markdown reports.', 'course_id': 'C017'}, references=None, vector={}, collection='Course'),\n",
       " GenerativeObject(uuid=_WeaviateUUIDInt('e01a4760-4b54-4de0-99c1-c62f83e916fc'), metadata=MetadataReturn(creation_time=None, last_update_time=None, distance=0.642705500125885, certainty=None, score=None, explain_score=None, is_consistent=None, rerank_score=None), properties={'title': 'Big Data Analytics with Spark', 'description': 'Process and analyze large datasets using Apache Spark and PySpark. The course covers RDDs, DataFrames, Spark SQL, and MLlib for machine learning at scale. You’ll learn cluster deployment on YARN or Kubernetes, performance tuning, and structured streaming for real-time analytics. Hands-on projects include building ETL pipelines and interactive dashboards, unlocking insights from big data.', 'course_id': 'C011'}, references=None, vector={}, collection='Course'),\n",
       " GenerativeObject(uuid=_WeaviateUUIDInt('a2ceacf4-c1de-4672-b8ad-bb3c1b09f4d7'), metadata=MetadataReturn(creation_time=None, last_update_time=None, distance=0.662911593914032, certainty=None, score=None, explain_score=None, is_consistent=None, rerank_score=None), properties={'title': 'Data Visualization with Tableau', 'description': 'Transform raw data into compelling visual stories using Tableau. Learn to connect to diverse data sources, create interactive dashboards, and apply best practices in chart selection. Topics include calculated fields, parameters, LOD expressions, and storytelling features. Through real-world case studies, you’ll design user-driven analytics that reveal trends and drive data-informed decision making.', 'course_id': 'C014'}, references=None, vector={}, collection='Course'),\n",
       " GenerativeObject(uuid=_WeaviateUUIDInt('661736e1-2609-4012-b7a2-50b38c5e072f'), metadata=MetadataReturn(creation_time=None, last_update_time=None, distance=0.6698635816574097, certainty=None, score=None, explain_score=None, is_consistent=None, rerank_score=None), properties={'title': 'SQL for Data Analysis', 'description': 'Master SQL querying for data analysis and reporting. Topics include SELECT statements, JOINs, subqueries, window functions, CTEs, and aggregate functions. Practice on PostgreSQL or MySQL to manipulate data, generate summary statistics, and create analytical views. Labs cover query optimization, indexing strategies, and writing complex reports, empowering you to derive actionable insights from relational data.', 'course_id': 'C012'}, references=None, vector={}, collection='Course')]"
      ]
     },
     "execution_count": 45,
     "metadata": {},
     "output_type": "execute_result"
    }
   ],
   "source": [
    "course_recommender()"
   ]
  },
  {
   "cell_type": "code",
   "execution_count": 46,
   "id": "045f8ead",
   "metadata": {},
   "outputs": [
    {
     "name": "stdout",
     "output_type": "stream",
     "text": [
      "\n",
      "User Profile: I'm new to AI and just want a simple introduction to machine learning.\n",
      "\n",
      "\n",
      "Top 5 Matching Courses:\n",
      "\n",
      "Title: Reinforcement Learning Basics\n",
      "Description: Get introduced to reinforcement learning paradigms, including Markov decision processes, Q-learning, policy gradients, and actor-critic methods. Learn to formulate environments, design reward functions, and implement agents using OpenAI Gym and TensorFlow. Through guided labs you’ll train agents for classic control tasks and grid-world scenarios, exploring exploration-exploitation trade-offs and model-free learning techniques.\n",
      "Course ID: C005\n",
      "Cosine Distance: 0.4542\n",
      "--------------------------------------------------\n",
      "Title: Deep Learning with TensorFlow and Keras\n",
      "Description: Explore neural network architectures using TensorFlow and Keras frameworks. This course covers feedforward networks, convolutional neural networks, recurrent neural networks, and transfer learning. Learn to build, train, evaluate, and optimize deep learning models for image classification, sequence modeling, and text processing. Includes hands-on labs and real-world project implementations with interactive exercises.\n",
      "Course ID: C002\n",
      "Cosine Distance: 0.5032\n",
      "--------------------------------------------------\n",
      "Title: Foundations of Machine Learning\n",
      "Description: Understand foundational machine learning algorithms including regression, classification, clustering, and dimensionality reduction. This course covers data pre-processing, feature engineering, model selection, hyperparameter tuning, and evaluation metrics. Hands-on labs use scikit-learn and Python to implement end-to-end workflows on real-world datasets, preparing learners for practical machine learning applications with interactive engaging exercises.\n",
      "Course ID: C001\n",
      "Cosine Distance: 0.5174\n",
      "--------------------------------------------------\n",
      "Title: Python Programming for Data Science\n",
      "Description: Learn Python fundamentals for data science: variables, control flow, functions, and object-oriented programming. Advance to data handling with pandas, numerical computing with NumPy, and basic plotting with matplotlib. You’ll build reproducible data workflows, clean and transform datasets, and perform exploratory analysis, laying the groundwork for machine learning and statistical modeling projects.\n",
      "Course ID: C016\n",
      "Cosine Distance: 0.6302\n",
      "--------------------------------------------------\n",
      "Title: Natural Language Processing Fundamentals\n",
      "Description: Dive into NLP techniques for processing and understanding human language. You will learn tokenization, stemming, lemmatization, part-of-speech tagging, named entity recognition, and sentiment analysis. The course includes transformer architectures, attention mechanisms, and fine-tuning pre-trained language models. Hands-on Python labs use Hugging Face and spaCy for end-to-end natural language pipelines and projects.\n",
      "Course ID: C003\n",
      "Cosine Distance: 0.6439\n",
      "--------------------------------------------------\n"
     ]
    },
    {
     "data": {
      "text/plain": [
       "[GenerativeObject(uuid=_WeaviateUUIDInt('bb12767c-224f-4f76-82d7-34f771210ff3'), metadata=MetadataReturn(creation_time=None, last_update_time=None, distance=0.4541811943054199, certainty=None, score=None, explain_score=None, is_consistent=None, rerank_score=None), properties={'description': 'Get introduced to reinforcement learning paradigms, including Markov decision processes, Q-learning, policy gradients, and actor-critic methods. Learn to formulate environments, design reward functions, and implement agents using OpenAI Gym and TensorFlow. Through guided labs you’ll train agents for classic control tasks and grid-world scenarios, exploring exploration-exploitation trade-offs and model-free learning techniques.', 'title': 'Reinforcement Learning Basics', 'course_id': 'C005'}, references=None, vector={}, collection='Course'),\n",
       " GenerativeObject(uuid=_WeaviateUUIDInt('d7c27128-6210-47ae-8900-bcb0869a196c'), metadata=MetadataReturn(creation_time=None, last_update_time=None, distance=0.5031589865684509, certainty=None, score=None, explain_score=None, is_consistent=None, rerank_score=None), properties={'description': 'Explore neural network architectures using TensorFlow and Keras frameworks. This course covers feedforward networks, convolutional neural networks, recurrent neural networks, and transfer learning. Learn to build, train, evaluate, and optimize deep learning models for image classification, sequence modeling, and text processing. Includes hands-on labs and real-world project implementations with interactive exercises.', 'title': 'Deep Learning with TensorFlow and Keras', 'course_id': 'C002'}, references=None, vector={}, collection='Course'),\n",
       " GenerativeObject(uuid=_WeaviateUUIDInt('96339745-df71-4017-bb67-54b0aa65295b'), metadata=MetadataReturn(creation_time=None, last_update_time=None, distance=0.5174055099487305, certainty=None, score=None, explain_score=None, is_consistent=None, rerank_score=None), properties={'title': 'Foundations of Machine Learning', 'description': 'Understand foundational machine learning algorithms including regression, classification, clustering, and dimensionality reduction. This course covers data pre-processing, feature engineering, model selection, hyperparameter tuning, and evaluation metrics. Hands-on labs use scikit-learn and Python to implement end-to-end workflows on real-world datasets, preparing learners for practical machine learning applications with interactive engaging exercises.', 'course_id': 'C001'}, references=None, vector={}, collection='Course'),\n",
       " GenerativeObject(uuid=_WeaviateUUIDInt('08d59f58-5315-450c-86c0-c0b9ca9c6909'), metadata=MetadataReturn(creation_time=None, last_update_time=None, distance=0.6301826238632202, certainty=None, score=None, explain_score=None, is_consistent=None, rerank_score=None), properties={'description': 'Learn Python fundamentals for data science: variables, control flow, functions, and object-oriented programming. Advance to data handling with pandas, numerical computing with NumPy, and basic plotting with matplotlib. You’ll build reproducible data workflows, clean and transform datasets, and perform exploratory analysis, laying the groundwork for machine learning and statistical modeling projects.', 'title': 'Python Programming for Data Science', 'course_id': 'C016'}, references=None, vector={}, collection='Course'),\n",
       " GenerativeObject(uuid=_WeaviateUUIDInt('9432cf87-d3d9-4424-894a-dcf023a4b111'), metadata=MetadataReturn(creation_time=None, last_update_time=None, distance=0.6439463496208191, certainty=None, score=None, explain_score=None, is_consistent=None, rerank_score=None), properties={'description': 'Dive into NLP techniques for processing and understanding human language. You will learn tokenization, stemming, lemmatization, part-of-speech tagging, named entity recognition, and sentiment analysis. The course includes transformer architectures, attention mechanisms, and fine-tuning pre-trained language models. Hands-on Python labs use Hugging Face and spaCy for end-to-end natural language pipelines and projects.', 'title': 'Natural Language Processing Fundamentals', 'course_id': 'C003'}, references=None, vector={}, collection='Course')]"
      ]
     },
     "execution_count": 46,
     "metadata": {},
     "output_type": "execute_result"
    }
   ],
   "source": [
    "course_recommender()"
   ]
  },
  {
   "cell_type": "code",
   "execution_count": 47,
   "id": "725b222a",
   "metadata": {},
   "outputs": [
    {
     "name": "stdout",
     "output_type": "stream",
     "text": [
      "\n",
      "User Profile: I’m interested in how agents learn from actions in dynamic environments.\n",
      "\n",
      "\n",
      "Top 5 Matching Courses:\n",
      "\n",
      "Title: Reinforcement Learning Basics\n",
      "Description: Get introduced to reinforcement learning paradigms, including Markov decision processes, Q-learning, policy gradients, and actor-critic methods. Learn to formulate environments, design reward functions, and implement agents using OpenAI Gym and TensorFlow. Through guided labs you’ll train agents for classic control tasks and grid-world scenarios, exploring exploration-exploitation trade-offs and model-free learning techniques.\n",
      "Course ID: C005\n",
      "Cosine Distance: 0.3669\n",
      "--------------------------------------------------\n",
      "Title: Deep Learning with TensorFlow and Keras\n",
      "Description: Explore neural network architectures using TensorFlow and Keras frameworks. This course covers feedforward networks, convolutional neural networks, recurrent neural networks, and transfer learning. Learn to build, train, evaluate, and optimize deep learning models for image classification, sequence modeling, and text processing. Includes hands-on labs and real-world project implementations with interactive exercises.\n",
      "Course ID: C002\n",
      "Cosine Distance: 0.7237\n",
      "--------------------------------------------------\n",
      "Title: User Experience (UX) Design Principles\n",
      "Description: Learn UX design fundamentals: user research, personas, journey mapping, wireframing, and prototyping. Utilize tools like Figma to create interactive mockups. Topics include usability testing, accessibility standards, and design systems. Through project-based labs, you’ll design and test intuitive interfaces, apply heuristics, and iterate based on user feedback to craft delightful digital experiences.\n",
      "Course ID: C020\n",
      "Cosine Distance: 0.7254\n",
      "--------------------------------------------------\n",
      "Title: Augmented and Virtual Reality Development\n",
      "Description: Dive into AR/VR concepts, device ecosystems, and development frameworks like Unity and Unreal Engine. Learn to build immersive experiences, handle 3D assets, and implement input interactions. Topics cover spatial computing, UI/UX for XR, and performance optimization. Through labs, you’ll create both AR and VR prototypes for education, training, or entertainment use cases.\n",
      "Course ID: C024\n",
      "Cosine Distance: 0.7399\n",
      "--------------------------------------------------\n",
      "Title: Natural Language Processing Fundamentals\n",
      "Description: Dive into NLP techniques for processing and understanding human language. You will learn tokenization, stemming, lemmatization, part-of-speech tagging, named entity recognition, and sentiment analysis. The course includes transformer architectures, attention mechanisms, and fine-tuning pre-trained language models. Hands-on Python labs use Hugging Face and spaCy for end-to-end natural language pipelines and projects.\n",
      "Course ID: C003\n",
      "Cosine Distance: 0.7461\n",
      "--------------------------------------------------\n"
     ]
    },
    {
     "data": {
      "text/plain": [
       "[GenerativeObject(uuid=_WeaviateUUIDInt('bb12767c-224f-4f76-82d7-34f771210ff3'), metadata=MetadataReturn(creation_time=None, last_update_time=None, distance=0.366865873336792, certainty=None, score=None, explain_score=None, is_consistent=None, rerank_score=None), properties={'title': 'Reinforcement Learning Basics', 'description': 'Get introduced to reinforcement learning paradigms, including Markov decision processes, Q-learning, policy gradients, and actor-critic methods. Learn to formulate environments, design reward functions, and implement agents using OpenAI Gym and TensorFlow. Through guided labs you’ll train agents for classic control tasks and grid-world scenarios, exploring exploration-exploitation trade-offs and model-free learning techniques.', 'course_id': 'C005'}, references=None, vector={}, collection='Course'),\n",
       " GenerativeObject(uuid=_WeaviateUUIDInt('d7c27128-6210-47ae-8900-bcb0869a196c'), metadata=MetadataReturn(creation_time=None, last_update_time=None, distance=0.723678708076477, certainty=None, score=None, explain_score=None, is_consistent=None, rerank_score=None), properties={'title': 'Deep Learning with TensorFlow and Keras', 'description': 'Explore neural network architectures using TensorFlow and Keras frameworks. This course covers feedforward networks, convolutional neural networks, recurrent neural networks, and transfer learning. Learn to build, train, evaluate, and optimize deep learning models for image classification, sequence modeling, and text processing. Includes hands-on labs and real-world project implementations with interactive exercises.', 'course_id': 'C002'}, references=None, vector={}, collection='Course'),\n",
       " GenerativeObject(uuid=_WeaviateUUIDInt('21c92e08-1d49-49e9-b425-3f1def8c2cf8'), metadata=MetadataReturn(creation_time=None, last_update_time=None, distance=0.7254236936569214, certainty=None, score=None, explain_score=None, is_consistent=None, rerank_score=None), properties={'title': 'User Experience (UX) Design Principles', 'description': 'Learn UX design fundamentals: user research, personas, journey mapping, wireframing, and prototyping. Utilize tools like Figma to create interactive mockups. Topics include usability testing, accessibility standards, and design systems. Through project-based labs, you’ll design and test intuitive interfaces, apply heuristics, and iterate based on user feedback to craft delightful digital experiences.', 'course_id': 'C020'}, references=None, vector={}, collection='Course'),\n",
       " GenerativeObject(uuid=_WeaviateUUIDInt('8e663fcb-2c2a-462d-9f2a-471ca67abe0c'), metadata=MetadataReturn(creation_time=None, last_update_time=None, distance=0.7399205565452576, certainty=None, score=None, explain_score=None, is_consistent=None, rerank_score=None), properties={'title': 'Augmented and Virtual Reality Development', 'description': 'Dive into AR/VR concepts, device ecosystems, and development frameworks like Unity and Unreal Engine. Learn to build immersive experiences, handle 3D assets, and implement input interactions. Topics cover spatial computing, UI/UX for XR, and performance optimization. Through labs, you’ll create both AR and VR prototypes for education, training, or entertainment use cases.', 'course_id': 'C024'}, references=None, vector={}, collection='Course'),\n",
       " GenerativeObject(uuid=_WeaviateUUIDInt('9432cf87-d3d9-4424-894a-dcf023a4b111'), metadata=MetadataReturn(creation_time=None, last_update_time=None, distance=0.7461297512054443, certainty=None, score=None, explain_score=None, is_consistent=None, rerank_score=None), properties={'title': 'Natural Language Processing Fundamentals', 'description': 'Dive into NLP techniques for processing and understanding human language. You will learn tokenization, stemming, lemmatization, part-of-speech tagging, named entity recognition, and sentiment analysis. The course includes transformer architectures, attention mechanisms, and fine-tuning pre-trained language models. Hands-on Python labs use Hugging Face and spaCy for end-to-end natural language pipelines and projects.', 'course_id': 'C003'}, references=None, vector={}, collection='Course')]"
      ]
     },
     "execution_count": 47,
     "metadata": {},
     "output_type": "execute_result"
    }
   ],
   "source": [
    "course_recommender()"
   ]
  },
  {
   "cell_type": "code",
   "execution_count": null,
   "id": "5604a381",
   "metadata": {},
   "outputs": [],
   "source": []
  }
 ],
 "metadata": {
  "kernelspec": {
   "display_name": "gen_ai_architect",
   "language": "python",
   "name": "python3"
  },
  "language_info": {
   "codemirror_mode": {
    "name": "ipython",
    "version": 3
   },
   "file_extension": ".py",
   "mimetype": "text/x-python",
   "name": "python",
   "nbconvert_exporter": "python",
   "pygments_lexer": "ipython3",
   "version": "3.13.3"
  }
 },
 "nbformat": 4,
 "nbformat_minor": 5
}
